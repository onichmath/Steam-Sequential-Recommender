{
 "cells": [
  {
   "cell_type": "markdown",
   "id": "c293dea6-fda7-454e-ade6-716dde5da20b",
   "metadata": {},
   "source": [
    "## Imports "
   ]
  },
  {
   "cell_type": "code",
   "execution_count": 52,
   "id": "3daa18f8-c1ce-4b1c-9c69-c0686a0bd373",
   "metadata": {},
   "outputs": [],
   "source": [
    "import os\n",
    "import pandas as pd \n",
    "import numpy as np\n",
    "import matplotlib.pyplot as plt\n",
    "import gzip \n",
    "import json \n",
    "import polars as pl\n",
    "import re\n",
    "import ast"
   ]
  },
  {
   "cell_type": "markdown",
   "id": "79c2609b-58f2-46c5-9ff4-3ae940d4a352",
   "metadata": {},
   "source": [
    "## Load Data "
   ]
  },
  {
   "cell_type": "code",
   "execution_count": 70,
   "id": "bd6ea3bd-9670-4e35-bf47-6ffe63a34a10",
   "metadata": {},
   "outputs": [],
   "source": [
    "# AUS user reviews might not be needed \n",
    "aus_user_reviews_path = \"./data/australian_user_reviews.json.gz\"\n",
    "\n",
    "# AUS user items could be used for user demographic info \n",
    "# Or for user-to-user similarity if thats needed in the future\n",
    "aus_user_items_path = \"./data/australian_users_items.json.gz\" \n",
    "\n",
    "# Game specific metadata, will be useful for predictions \n",
    "steam_games_path = \"./data/steam_games.json.gz\" \n",
    "\n",
    "# This in combination with the metadata will need to be used for predictions\n",
    "# This file doesn't have user id or game metadata \n",
    "steam_reviews_path = \"./data/steam_reviews.json.gz\" # This should be the 1.2 GiB version "
   ]
  },
  {
   "cell_type": "code",
   "execution_count": 71,
   "id": "0a277c2a-9b0c-4bed-8c6c-0a4e044c7e73",
   "metadata": {},
   "outputs": [],
   "source": [
    "# If files dont exist: print \n",
    "for path in [steam_games_path, steam_reviews_path]:\n",
    "    if not os.path.exists(path):\n",
    "        print(f\"File {path} does not exist\")\n",
    "        print(\"Please put the files in the ./data/ folder\")"
   ]
  },
  {
   "cell_type": "markdown",
   "id": "b96592d4-7b55-4a50-b542-54c5b2122ab6",
   "metadata": {},
   "source": [
    "## Steam Games Metadata"
   ]
  },
  {
   "cell_type": "markdown",
   "id": "3f6fda2c-3977-40cb-8c31-e0f2246c0859",
   "metadata": {},
   "source": [
    "### Check number of games"
   ]
  },
  {
   "cell_type": "code",
   "execution_count": null,
   "id": "0a00c1b0-ecfd-49f6-8732-af8559724349",
   "metadata": {},
   "outputs": [],
   "source": [
    "reviews_games_id_set = set()\n",
    "with gzip.open(steam_reviews_path, 'rt', encoding='utf-8') as f:\n",
    "    for i, line in enumerate(f):\n",
    "        line_dict = ast.literal_eval(line)\n",
    "        reviews_games_id_set.add(line_dict['product_id'])\n",
    "print(f\"Number of unique games in reviews: {len(reviews_games_id_set)}\")"
   ]
  },
  {
   "cell_type": "code",
   "execution_count": null,
   "id": "1a831e3b-6748-4a88-9ea4-13577f18be42",
   "metadata": {},
   "outputs": [],
   "source": [
    "games_id_set = set()\n",
    "with gzip.open(steam_games_path, 'rt', encoding='utf-8') as f:\n",
    "    for i, line in enumerate(f):\n",
    "        line_dict = ast.literal_eval(line)\n",
    "        games_id_set.add(line_dict['id'])\n",
    "print(f\"Number of unique games in games metadata: {len(games_id_set)}\")"
   ]
  },
  {
   "cell_type": "code",
   "execution_count": null,
   "id": "e27cda6d-0c08-4140-9840-14c091d9e4f4",
   "metadata": {},
   "outputs": [],
   "source": [
    "# Compare sets \n",
    "print(f\"Number of games in reviews but not in metadata: {len(reviews_games_id_set - games_id_set)}\")\n",
    "print(f\"Number of games in metadata but not in reviews: {len(games_id_set - reviews_games_id_set)}\")\n",
    "print(f\"Number of games in both: {len(reviews_games_id_set & games_id_set)}\")"
   ]
  }
 ],
 "metadata": {
  "kernelspec": {
   "display_name": "Python 3 (ipykernel)",
   "language": "python",
   "name": "python3"
  },
  "language_info": {
   "codemirror_mode": {
    "name": "ipython",
    "version": 3
   },
   "file_extension": ".py",
   "mimetype": "text/x-python",
   "name": "python",
   "nbconvert_exporter": "python",
   "pygments_lexer": "ipython3",
   "version": "3.12.6"
  }
 },
 "nbformat": 4,
 "nbformat_minor": 5
}
