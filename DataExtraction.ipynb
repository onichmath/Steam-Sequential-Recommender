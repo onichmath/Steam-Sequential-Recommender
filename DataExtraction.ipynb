{
 "cells": [
  {
   "cell_type": "markdown",
   "id": "c293dea6-fda7-454e-ade6-716dde5da20b",
   "metadata": {},
   "source": [
    "## Imports "
   ]
  },
  {
   "cell_type": "code",
   "execution_count": 1,
   "id": "3daa18f8-c1ce-4b1c-9c69-c0686a0bd373",
   "metadata": {},
   "outputs": [],
   "source": [
    "import os\n",
    "import pandas as pd \n",
    "import numpy as np\n",
    "import matplotlib.pyplot as plt\n",
    "import gzip \n",
    "import json \n",
    "import polars as pl\n",
    "import re\n",
    "import ast"
   ]
  },
  {
   "cell_type": "markdown",
   "id": "79c2609b-58f2-46c5-9ff4-3ae940d4a352",
   "metadata": {},
   "source": [
    "## Load Data "
   ]
  },
  {
   "cell_type": "code",
   "execution_count": 16,
   "id": "bd6ea3bd-9670-4e35-bf47-6ffe63a34a10",
   "metadata": {},
   "outputs": [],
   "source": [
    "# AUS user reviews might not be needed \n",
    "aus_user_reviews_path = \"./data/australian_user_reviews.json.gz\"\n",
    "\n",
    "# AUS user items could be used for user demographic info \n",
    "# Or for user-to-user similarity if thats needed in the future\n",
    "aus_user_items_path = \"./data/australian_users_items.json.gz\" \n",
    "\n",
    "# Game specific metadata, will be useful for predictions \n",
    "steam_games_path = \"./data/steam_games.json.gz\" \n",
    "\n",
    "# This in combination with the metadata will need to be used for predictions\n",
    "# This file doesn't have user id or game metadata \n",
    "steam_reviews_path = \"./data/steam_reviews.json.gz\" # This should be the 1.2 GiB version "
   ]
  },
  {
   "cell_type": "code",
   "execution_count": 51,
   "id": "0a277c2a-9b0c-4bed-8c6c-0a4e044c7e73",
   "metadata": {},
   "outputs": [],
   "source": [
    "# If files dont exist: print \n",
    "for path in [steam_games_path, steam_reviews_path]:\n",
    "    if not os.path.exists(path):\n",
    "        print(f\"File {path} does not exist\")\n",
    "        print(\"Please put the files in the ./data/ folder\")"
   ]
  },
  {
   "cell_type": "code",
   "execution_count": 15,
   "id": "0a00c1b0-ecfd-49f6-8732-af8559724349",
   "metadata": {},
   "outputs": [],
   "source": [
    "def read_file_lazily(file_path): \n",
    "    # Create a generator for the file to prevent OOM errors \n",
    "    with gzip.open(file_path, 'rt', encoding='utf-8') as f:\n",
    "        for i, line in enumerate(f):\n",
    "            if i % 1000000 == 0:\n",
    "                print(i)\n",
    "            item = ast.literal_eval(line)\n",
    "            yield item\n",
    "\n",
    "def get_lazyframe_from_file_path(file_path):\n",
    "    # Return lazy frame to prevent OOC and OOM errors\n",
    "    return pl.LazyFrame(read_file_lazily(file_path))"
   ]
  },
  {
   "cell_type": "markdown",
   "id": "b96592d4-7b55-4a50-b542-54c5b2122ab6",
   "metadata": {},
   "source": [
    "### Steam Games Metadata"
   ]
  },
  {
   "cell_type": "code",
   "execution_count": 53,
   "id": "230175c4-2915-445e-8e9c-00845075a9a8",
   "metadata": {},
   "outputs": [
    {
     "name": "stdout",
     "output_type": "stream",
     "text": [
      "0\n"
     ]
    }
   ],
   "source": [
    "games_df = get_lazyframe_from_file_path(steam_games_path)"
   ]
  },
  {
   "cell_type": "code",
   "execution_count": 54,
   "id": "75ec33c6-727b-40a6-8420-5d7a054b90d6",
   "metadata": {},
   "outputs": [
    {
     "data": {
      "text/html": [
       "<div><style>\n",
       ".dataframe > thead > tr,\n",
       ".dataframe > tbody > tr {\n",
       "  text-align: right;\n",
       "  white-space: pre-wrap;\n",
       "}\n",
       "</style>\n",
       "<small>shape: (5, 16)</small><table border=\"1\" class=\"dataframe\"><thead><tr><th>publisher</th><th>genres</th><th>app_name</th><th>title</th><th>url</th><th>release_date</th><th>tags</th><th>discount_price</th><th>reviews_url</th><th>specs</th><th>price</th><th>early_access</th><th>id</th><th>developer</th><th>sentiment</th><th>metascore</th></tr><tr><td>str</td><td>list[str]</td><td>str</td><td>str</td><td>str</td><td>str</td><td>list[str]</td><td>f64</td><td>str</td><td>list[str]</td><td>str</td><td>bool</td><td>str</td><td>str</td><td>str</td><td>str</td></tr></thead><tbody><tr><td>&quot;Kotoshiro&quot;</td><td>[&quot;Action&quot;, &quot;Casual&quot;, … &quot;Strategy&quot;]</td><td>&quot;Lost Summoner Kitty&quot;</td><td>&quot;Lost Summoner Kitty&quot;</td><td>&quot;http://store.steampowered.com/…</td><td>&quot;2018-01-04&quot;</td><td>[&quot;Strategy&quot;, &quot;Action&quot;, … &quot;Simulation&quot;]</td><td>4.49</td><td>&quot;http://steamcommunity.com/app/…</td><td>[&quot;Single-player&quot;]</td><td>&quot;4.99&quot;</td><td>false</td><td>&quot;761140&quot;</td><td>&quot;Kotoshiro&quot;</td><td>null</td><td>null</td></tr><tr><td>&quot;Making Fun, Inc.&quot;</td><td>[&quot;Free to Play&quot;, &quot;Indie&quot;, … &quot;Strategy&quot;]</td><td>&quot;Ironbound&quot;</td><td>&quot;Ironbound&quot;</td><td>&quot;http://store.steampowered.com/…</td><td>&quot;2018-01-04&quot;</td><td>[&quot;Free to Play&quot;, &quot;Strategy&quot;, … &quot;Design &amp; Illustration&quot;]</td><td>null</td><td>&quot;http://steamcommunity.com/app/…</td><td>[&quot;Single-player&quot;, &quot;Multi-player&quot;, … &quot;In-App Purchases&quot;]</td><td>&quot;Free To Play&quot;</td><td>false</td><td>&quot;643980&quot;</td><td>&quot;Secret Level SRL&quot;</td><td>&quot;Mostly Positive&quot;</td><td>null</td></tr><tr><td>&quot;Poolians.com&quot;</td><td>[&quot;Casual&quot;, &quot;Free to Play&quot;, … &quot;Sports&quot;]</td><td>&quot;Real Pool 3D - Poolians&quot;</td><td>&quot;Real Pool 3D - Poolians&quot;</td><td>&quot;http://store.steampowered.com/…</td><td>&quot;2017-07-24&quot;</td><td>[&quot;Free to Play&quot;, &quot;Simulation&quot;, … &quot;Multiplayer&quot;]</td><td>null</td><td>&quot;http://steamcommunity.com/app/…</td><td>[&quot;Single-player&quot;, &quot;Multi-player&quot;, … &quot;Stats&quot;]</td><td>&quot;Free to Play&quot;</td><td>false</td><td>&quot;670290&quot;</td><td>&quot;Poolians.com&quot;</td><td>&quot;Mostly Positive&quot;</td><td>null</td></tr><tr><td>&quot;彼岸领域&quot;</td><td>[&quot;Action&quot;, &quot;Adventure&quot;, &quot;Casual&quot;]</td><td>&quot;弹炸人2222&quot;</td><td>&quot;弹炸人2222&quot;</td><td>&quot;http://store.steampowered.com/…</td><td>&quot;2017-12-07&quot;</td><td>[&quot;Action&quot;, &quot;Adventure&quot;, &quot;Casual&quot;]</td><td>0.83</td><td>&quot;http://steamcommunity.com/app/…</td><td>[&quot;Single-player&quot;]</td><td>&quot;0.99&quot;</td><td>false</td><td>&quot;767400&quot;</td><td>&quot;彼岸领域&quot;</td><td>null</td><td>null</td></tr><tr><td>null</td><td>null</td><td>&quot;Log Challenge&quot;</td><td>null</td><td>&quot;http://store.steampowered.com/…</td><td>null</td><td>[&quot;Action&quot;, &quot;Indie&quot;, … &quot;Sports&quot;]</td><td>1.79</td><td>&quot;http://steamcommunity.com/app/…</td><td>[&quot;Single-player&quot;, &quot;Full controller support&quot;, … &quot;Room-Scale&quot;]</td><td>&quot;2.99&quot;</td><td>false</td><td>&quot;773570&quot;</td><td>null</td><td>null</td><td>null</td></tr></tbody></table></div>"
      ],
      "text/plain": [
       "shape: (5, 16)\n",
       "┌────────────┬────────────┬───────────┬───────────┬───┬────────┬───────────┬───────────┬───────────┐\n",
       "│ publisher  ┆ genres     ┆ app_name  ┆ title     ┆ … ┆ id     ┆ developer ┆ sentiment ┆ metascore │\n",
       "│ ---        ┆ ---        ┆ ---       ┆ ---       ┆   ┆ ---    ┆ ---       ┆ ---       ┆ ---       │\n",
       "│ str        ┆ list[str]  ┆ str       ┆ str       ┆   ┆ str    ┆ str       ┆ str       ┆ str       │\n",
       "╞════════════╪════════════╪═══════════╪═══════════╪═══╪════════╪═══════════╪═══════════╪═══════════╡\n",
       "│ Kotoshiro  ┆ [\"Action\", ┆ Lost      ┆ Lost      ┆ … ┆ 761140 ┆ Kotoshiro ┆ null      ┆ null      │\n",
       "│            ┆ \"Casual\",  ┆ Summoner  ┆ Summoner  ┆   ┆        ┆           ┆           ┆           │\n",
       "│            ┆ … \"Strate… ┆ Kitty     ┆ Kitty     ┆   ┆        ┆           ┆           ┆           │\n",
       "│ Making     ┆ [\"Free to  ┆ Ironbound ┆ Ironbound ┆ … ┆ 643980 ┆ Secret    ┆ Mostly    ┆ null      │\n",
       "│ Fun, Inc.  ┆ Play\",     ┆           ┆           ┆   ┆        ┆ Level SRL ┆ Positive  ┆           │\n",
       "│            ┆ \"Indie\", … ┆           ┆           ┆   ┆        ┆           ┆           ┆           │\n",
       "│            ┆ \"S…        ┆           ┆           ┆   ┆        ┆           ┆           ┆           │\n",
       "│ Poolians.c ┆ [\"Casual\", ┆ Real Pool ┆ Real Pool ┆ … ┆ 670290 ┆ Poolians. ┆ Mostly    ┆ null      │\n",
       "│ om         ┆ \"Free to   ┆ 3D -      ┆ 3D -      ┆   ┆        ┆ com       ┆ Positive  ┆           │\n",
       "│            ┆ Play\", …   ┆ Poolians  ┆ Poolians  ┆   ┆        ┆           ┆           ┆           │\n",
       "│            ┆ \"…         ┆           ┆           ┆   ┆        ┆           ┆           ┆           │\n",
       "│ 彼岸领域   ┆ [\"Action\", ┆ 弹炸人222 ┆ 弹炸人222 ┆ … ┆ 767400 ┆ 彼岸领域  ┆ null      ┆ null      │\n",
       "│            ┆ \"Adventure ┆ 2         ┆ 2         ┆   ┆        ┆           ┆           ┆           │\n",
       "│            ┆ \", \"Casua… ┆           ┆           ┆   ┆        ┆           ┆           ┆           │\n",
       "│ null       ┆ null       ┆ Log       ┆ null      ┆ … ┆ 773570 ┆ null      ┆ null      ┆ null      │\n",
       "│            ┆            ┆ Challenge ┆           ┆   ┆        ┆           ┆           ┆           │\n",
       "└────────────┴────────────┴───────────┴───────────┴───┴────────┴───────────┴───────────┴───────────┘"
      ]
     },
     "execution_count": 54,
     "metadata": {},
     "output_type": "execute_result"
    }
   ],
   "source": [
    "games_df.head().collect()"
   ]
  },
  {
   "cell_type": "code",
   "execution_count": 55,
   "id": "11ca9e46-3753-43f4-ba42-facf54396259",
   "metadata": {},
   "outputs": [
    {
     "data": {
      "text/html": [
       "<div><style>\n",
       ".dataframe > thead > tr,\n",
       ".dataframe > tbody > tr {\n",
       "  text-align: right;\n",
       "  white-space: pre-wrap;\n",
       "}\n",
       "</style>\n",
       "<small>shape: (5, 16)</small><table border=\"1\" class=\"dataframe\"><thead><tr><th>publisher</th><th>genres</th><th>app_name</th><th>title</th><th>url</th><th>release_date</th><th>tags</th><th>discount_price</th><th>reviews_url</th><th>specs</th><th>price</th><th>early_access</th><th>id</th><th>developer</th><th>sentiment</th><th>metascore</th></tr><tr><td>str</td><td>list[str]</td><td>str</td><td>str</td><td>str</td><td>str</td><td>list[str]</td><td>f64</td><td>str</td><td>list[str]</td><td>str</td><td>bool</td><td>i32</td><td>str</td><td>str</td><td>str</td></tr></thead><tbody><tr><td>&quot;Kotoshiro&quot;</td><td>[&quot;Action&quot;, &quot;Casual&quot;, … &quot;Strategy&quot;]</td><td>&quot;Lost Summoner Kitty&quot;</td><td>&quot;Lost Summoner Kitty&quot;</td><td>&quot;http://store.steampowered.com/…</td><td>&quot;2018-01-04&quot;</td><td>[&quot;Strategy&quot;, &quot;Action&quot;, … &quot;Simulation&quot;]</td><td>4.49</td><td>&quot;http://steamcommunity.com/app/…</td><td>[&quot;Single-player&quot;]</td><td>&quot;4.99&quot;</td><td>false</td><td>761140</td><td>&quot;Kotoshiro&quot;</td><td>null</td><td>null</td></tr><tr><td>&quot;Making Fun, Inc.&quot;</td><td>[&quot;Free to Play&quot;, &quot;Indie&quot;, … &quot;Strategy&quot;]</td><td>&quot;Ironbound&quot;</td><td>&quot;Ironbound&quot;</td><td>&quot;http://store.steampowered.com/…</td><td>&quot;2018-01-04&quot;</td><td>[&quot;Free to Play&quot;, &quot;Strategy&quot;, … &quot;Design &amp; Illustration&quot;]</td><td>null</td><td>&quot;http://steamcommunity.com/app/…</td><td>[&quot;Single-player&quot;, &quot;Multi-player&quot;, … &quot;In-App Purchases&quot;]</td><td>&quot;Free To Play&quot;</td><td>false</td><td>643980</td><td>&quot;Secret Level SRL&quot;</td><td>&quot;Mostly Positive&quot;</td><td>null</td></tr><tr><td>&quot;Poolians.com&quot;</td><td>[&quot;Casual&quot;, &quot;Free to Play&quot;, … &quot;Sports&quot;]</td><td>&quot;Real Pool 3D - Poolians&quot;</td><td>&quot;Real Pool 3D - Poolians&quot;</td><td>&quot;http://store.steampowered.com/…</td><td>&quot;2017-07-24&quot;</td><td>[&quot;Free to Play&quot;, &quot;Simulation&quot;, … &quot;Multiplayer&quot;]</td><td>null</td><td>&quot;http://steamcommunity.com/app/…</td><td>[&quot;Single-player&quot;, &quot;Multi-player&quot;, … &quot;Stats&quot;]</td><td>&quot;Free to Play&quot;</td><td>false</td><td>670290</td><td>&quot;Poolians.com&quot;</td><td>&quot;Mostly Positive&quot;</td><td>null</td></tr><tr><td>&quot;彼岸领域&quot;</td><td>[&quot;Action&quot;, &quot;Adventure&quot;, &quot;Casual&quot;]</td><td>&quot;弹炸人2222&quot;</td><td>&quot;弹炸人2222&quot;</td><td>&quot;http://store.steampowered.com/…</td><td>&quot;2017-12-07&quot;</td><td>[&quot;Action&quot;, &quot;Adventure&quot;, &quot;Casual&quot;]</td><td>0.83</td><td>&quot;http://steamcommunity.com/app/…</td><td>[&quot;Single-player&quot;]</td><td>&quot;0.99&quot;</td><td>false</td><td>767400</td><td>&quot;彼岸领域&quot;</td><td>null</td><td>null</td></tr><tr><td>null</td><td>null</td><td>&quot;Log Challenge&quot;</td><td>null</td><td>&quot;http://store.steampowered.com/…</td><td>null</td><td>[&quot;Action&quot;, &quot;Indie&quot;, … &quot;Sports&quot;]</td><td>1.79</td><td>&quot;http://steamcommunity.com/app/…</td><td>[&quot;Single-player&quot;, &quot;Full controller support&quot;, … &quot;Room-Scale&quot;]</td><td>&quot;2.99&quot;</td><td>false</td><td>773570</td><td>null</td><td>null</td><td>null</td></tr></tbody></table></div>"
      ],
      "text/plain": [
       "shape: (5, 16)\n",
       "┌────────────┬────────────┬───────────┬───────────┬───┬────────┬───────────┬───────────┬───────────┐\n",
       "│ publisher  ┆ genres     ┆ app_name  ┆ title     ┆ … ┆ id     ┆ developer ┆ sentiment ┆ metascore │\n",
       "│ ---        ┆ ---        ┆ ---       ┆ ---       ┆   ┆ ---    ┆ ---       ┆ ---       ┆ ---       │\n",
       "│ str        ┆ list[str]  ┆ str       ┆ str       ┆   ┆ i32    ┆ str       ┆ str       ┆ str       │\n",
       "╞════════════╪════════════╪═══════════╪═══════════╪═══╪════════╪═══════════╪═══════════╪═══════════╡\n",
       "│ Kotoshiro  ┆ [\"Action\", ┆ Lost      ┆ Lost      ┆ … ┆ 761140 ┆ Kotoshiro ┆ null      ┆ null      │\n",
       "│            ┆ \"Casual\",  ┆ Summoner  ┆ Summoner  ┆   ┆        ┆           ┆           ┆           │\n",
       "│            ┆ … \"Strate… ┆ Kitty     ┆ Kitty     ┆   ┆        ┆           ┆           ┆           │\n",
       "│ Making     ┆ [\"Free to  ┆ Ironbound ┆ Ironbound ┆ … ┆ 643980 ┆ Secret    ┆ Mostly    ┆ null      │\n",
       "│ Fun, Inc.  ┆ Play\",     ┆           ┆           ┆   ┆        ┆ Level SRL ┆ Positive  ┆           │\n",
       "│            ┆ \"Indie\", … ┆           ┆           ┆   ┆        ┆           ┆           ┆           │\n",
       "│            ┆ \"S…        ┆           ┆           ┆   ┆        ┆           ┆           ┆           │\n",
       "│ Poolians.c ┆ [\"Casual\", ┆ Real Pool ┆ Real Pool ┆ … ┆ 670290 ┆ Poolians. ┆ Mostly    ┆ null      │\n",
       "│ om         ┆ \"Free to   ┆ 3D -      ┆ 3D -      ┆   ┆        ┆ com       ┆ Positive  ┆           │\n",
       "│            ┆ Play\", …   ┆ Poolians  ┆ Poolians  ┆   ┆        ┆           ┆           ┆           │\n",
       "│            ┆ \"…         ┆           ┆           ┆   ┆        ┆           ┆           ┆           │\n",
       "│ 彼岸领域   ┆ [\"Action\", ┆ 弹炸人222 ┆ 弹炸人222 ┆ … ┆ 767400 ┆ 彼岸领域  ┆ null      ┆ null      │\n",
       "│            ┆ \"Adventure ┆ 2         ┆ 2         ┆   ┆        ┆           ┆           ┆           │\n",
       "│            ┆ \", \"Casua… ┆           ┆           ┆   ┆        ┆           ┆           ┆           │\n",
       "│ null       ┆ null       ┆ Log       ┆ null      ┆ … ┆ 773570 ┆ null      ┆ null      ┆ null      │\n",
       "│            ┆            ┆ Challenge ┆           ┆   ┆        ┆           ┆           ┆           │\n",
       "└────────────┴────────────┴───────────┴───────────┴───┴────────┴───────────┴───────────┴───────────┘"
      ]
     },
     "execution_count": 55,
     "metadata": {},
     "output_type": "execute_result"
    }
   ],
   "source": [
    "# convert column 'id' to int \n",
    "cleaned_games_df = games_df.with_columns(pl.col(\"id\").cast(pl.Int32))\n",
    "cleaned_games_df.head().collect()"
   ]
  },
  {
   "cell_type": "code",
   "execution_count": 56,
   "id": "3ba08b49-193d-46e4-b9d4-9a4eb3b6217b",
   "metadata": {},
   "outputs": [
    {
     "name": "stdout",
     "output_type": "stream",
     "text": [
      "shape: (1, 8)\n",
      "┌───────────┬────────┬──────────┬───────┬─────┬──────────────┬──────┬────────────────┐\n",
      "│ publisher ┆ genres ┆ app_name ┆ title ┆ url ┆ release_date ┆ tags ┆ discount_price │\n",
      "│ ---       ┆ ---    ┆ ---      ┆ ---   ┆ --- ┆ ---          ┆ ---  ┆ ---            │\n",
      "│ u32       ┆ u32    ┆ u32      ┆ u32   ┆ u32 ┆ u32          ┆ u32  ┆ u32            │\n",
      "╞═══════════╪════════╪══════════╪═══════╪═════╪══════════════╪══════╪════════════════╡\n",
      "│ 8052      ┆ 3283   ┆ 2        ┆ 2050  ┆ 0   ┆ 2067         ┆ 163  ┆ 31910          │\n",
      "└───────────┴────────┴──────────┴───────┴─────┴──────────────┴──────┴────────────────┘\n",
      "shape: (1, 8)\n",
      "┌─────────────┬───────┬───────┬──────────────┬─────┬───────────┬───────────┬───────────┐\n",
      "│ reviews_url ┆ specs ┆ price ┆ early_access ┆ id  ┆ developer ┆ sentiment ┆ metascore │\n",
      "│ ---         ┆ ---   ┆ ---   ┆ ---          ┆ --- ┆ ---       ┆ ---       ┆ ---       │\n",
      "│ u32         ┆ u32   ┆ u32   ┆ u32          ┆ u32 ┆ u32       ┆ u32       ┆ u32       │\n",
      "╞═════════════╪═══════╪═══════╪══════════════╪═════╪═══════════╪═══════════╪═══════════╡\n",
      "│ 2           ┆ 670   ┆ 1377  ┆ 0            ┆ 2   ┆ 3299      ┆ 7182      ┆ 29458     │\n",
      "└─────────────┴───────┴───────┴──────────────┴─────┴───────────┴───────────┴───────────┘\n"
     ]
    }
   ],
   "source": [
    "# Find null cols\n",
    "print(cleaned_games_df.null_count().collect()[:, :8])\n",
    "print(cleaned_games_df.null_count().collect()[:, 8:])"
   ]
  },
  {
   "cell_type": "markdown",
   "id": "fea24757-7010-4187-9099-7ef6a9dd2a4f",
   "metadata": {},
   "source": [
    "### Steam Reviews"
   ]
  },
  {
   "cell_type": "code",
   "execution_count": 17,
   "id": "9f349f71-27f3-4a84-ac0c-acc77cb6640c",
   "metadata": {},
   "outputs": [
    {
     "name": "stdout",
     "output_type": "stream",
     "text": [
      "0\n",
      "1000000\n",
      "2000000\n",
      "3000000\n",
      "4000000\n",
      "5000000\n",
      "6000000\n",
      "7000000\n"
     ]
    }
   ],
   "source": [
    "reviews_df = get_lazyframe_from_file_path(steam_reviews_path)"
   ]
  },
  {
   "cell_type": "code",
   "execution_count": 22,
   "id": "b47c961e-4693-4b86-82d1-86431156b779",
   "metadata": {},
   "outputs": [
    {
     "data": {
      "text/html": [
       "<div><style>\n",
       ".dataframe > thead > tr,\n",
       ".dataframe > tbody > tr {\n",
       "  text-align: right;\n",
       "  white-space: pre-wrap;\n",
       "}\n",
       "</style>\n",
       "<small>shape: (114_797, 2)</small><table border=\"1\" class=\"dataframe\"><thead><tr><th>user_id</th><th>count</th></tr><tr><td>str</td><td>u32</td></tr></thead><tbody><tr><td>&quot;76561198091683702&quot;</td><td>5</td></tr><tr><td>&quot;76561198032733014&quot;</td><td>5</td></tr><tr><td>&quot;76561198108107409&quot;</td><td>10</td></tr><tr><td>&quot;76561198258929285&quot;</td><td>18</td></tr><tr><td>&quot;76561198185039370&quot;</td><td>6</td></tr><tr><td>&hellip;</td><td>&hellip;</td></tr><tr><td>&quot;76561198244128234&quot;</td><td>6</td></tr><tr><td>&quot;76561198127301819&quot;</td><td>20</td></tr><tr><td>&quot;76561198055166916&quot;</td><td>25</td></tr><tr><td>&quot;76561198050605488&quot;</td><td>17</td></tr><tr><td>&quot;76561198107225874&quot;</td><td>6</td></tr></tbody></table></div>"
      ],
      "text/plain": [
       "shape: (114_797, 2)\n",
       "┌───────────────────┬───────┐\n",
       "│ user_id           ┆ count │\n",
       "│ ---               ┆ ---   │\n",
       "│ str               ┆ u32   │\n",
       "╞═══════════════════╪═══════╡\n",
       "│ 76561198091683702 ┆ 5     │\n",
       "│ 76561198032733014 ┆ 5     │\n",
       "│ 76561198108107409 ┆ 10    │\n",
       "│ 76561198258929285 ┆ 18    │\n",
       "│ 76561198185039370 ┆ 6     │\n",
       "│ …                 ┆ …     │\n",
       "│ 76561198244128234 ┆ 6     │\n",
       "│ 76561198127301819 ┆ 20    │\n",
       "│ 76561198055166916 ┆ 25    │\n",
       "│ 76561198050605488 ┆ 17    │\n",
       "│ 76561198107225874 ┆ 6     │\n",
       "└───────────────────┴───────┘"
      ]
     },
     "execution_count": 22,
     "metadata": {},
     "output_type": "execute_result"
    }
   ],
   "source": [
    "reviews_df.group_by(\"user_id\").agg(pl.count(\"user_id\").alias(\"count\")).filter(pl.col(\"count\") >= 5).collect()"
   ]
  },
  {
   "cell_type": "code",
   "execution_count": 46,
   "id": "a627c2f1-7d89-4016-89f1-1d7092140f9d",
   "metadata": {},
   "outputs": [
    {
     "data": {
      "text/html": [
       "<div><style>\n",
       ".dataframe > thead > tr,\n",
       ".dataframe > tbody > tr {\n",
       "  text-align: right;\n",
       "  white-space: pre-wrap;\n",
       "}\n",
       "</style>\n",
       "<small>shape: (5, 12)</small><table border=\"1\" class=\"dataframe\"><thead><tr><th>username</th><th>hours</th><th>products</th><th>product_id</th><th>page_order</th><th>date</th><th>text</th><th>early_access</th><th>page</th><th>found_funny</th><th>compensation</th><th>user_id</th></tr><tr><td>str</td><td>f64</td><td>i64</td><td>str</td><td>i64</td><td>str</td><td>str</td><td>bool</td><td>i64</td><td>i64</td><td>str</td><td>str</td></tr></thead><tbody><tr><td>&quot;Chaos Syren&quot;</td><td>0.1</td><td>41</td><td>&quot;725280&quot;</td><td>0</td><td>&quot;2017-12-17&quot;</td><td>&quot;This would not be acceptable a…</td><td>false</td><td>1</td><td>null</td><td>null</td><td>null</td></tr><tr><td>&quot;₮ʜᴇ Wᴀʀᴛᴏɴ&quot;</td><td>51.1</td><td>769</td><td>&quot;328100&quot;</td><td>0</td><td>&quot;2017-12-27&quot;</td><td>&quot;looks like a facebook game&quot;</td><td>false</td><td>1</td><td>null</td><td>null</td><td>null</td></tr><tr><td>&quot;hello?&lt;&quot;</td><td>14.6</td><td>2</td><td>&quot;328100&quot;</td><td>1</td><td>&quot;2017-10-16&quot;</td><td>&quot;Better than Minecraft&quot;</td><td>false</td><td>1</td><td>2</td><td>&quot;Product received for free&quot;</td><td>null</td></tr><tr><td>&quot;Cyderine916&quot;</td><td>5.0</td><td>64</td><td>&quot;35140&quot;</td><td>0</td><td>&quot;2018-01-04&quot;</td><td>&quot;I love and idolized Batman and…</td><td>false</td><td>1</td><td>null</td><td>null</td><td>null</td></tr><tr><td>&quot;DarklyThinking&quot;</td><td>16.6</td><td>577</td><td>&quot;35140&quot;</td><td>1</td><td>&quot;2018-01-04&quot;</td><td>&quot;Still worth playing in 2018.\n",
       "P…</td><td>false</td><td>1</td><td>null</td><td>null</td><td>&quot;76561198007483075&quot;</td></tr></tbody></table></div>"
      ],
      "text/plain": [
       "shape: (5, 12)\n",
       "┌─────────────┬───────┬──────────┬────────────┬───┬──────┬─────────────┬─────────────┬─────────────┐\n",
       "│ username    ┆ hours ┆ products ┆ product_id ┆ … ┆ page ┆ found_funny ┆ compensatio ┆ user_id     │\n",
       "│ ---         ┆ ---   ┆ ---      ┆ ---        ┆   ┆ ---  ┆ ---         ┆ n           ┆ ---         │\n",
       "│ str         ┆ f64   ┆ i64      ┆ str        ┆   ┆ i64  ┆ i64         ┆ ---         ┆ str         │\n",
       "│             ┆       ┆          ┆            ┆   ┆      ┆             ┆ str         ┆             │\n",
       "╞═════════════╪═══════╪══════════╪════════════╪═══╪══════╪═════════════╪═════════════╪═════════════╡\n",
       "│ Chaos Syren ┆ 0.1   ┆ 41       ┆ 725280     ┆ … ┆ 1    ┆ null        ┆ null        ┆ null        │\n",
       "│ ₮ʜᴇ Wᴀʀᴛᴏɴ  ┆ 51.1  ┆ 769      ┆ 328100     ┆ … ┆ 1    ┆ null        ┆ null        ┆ null        │\n",
       "│ hello?<     ┆ 14.6  ┆ 2        ┆ 328100     ┆ … ┆ 1    ┆ 2           ┆ Product     ┆ null        │\n",
       "│             ┆       ┆          ┆            ┆   ┆      ┆             ┆ received    ┆             │\n",
       "│             ┆       ┆          ┆            ┆   ┆      ┆             ┆ for free    ┆             │\n",
       "│ Cyderine916 ┆ 5.0   ┆ 64       ┆ 35140      ┆ … ┆ 1    ┆ null        ┆ null        ┆ null        │\n",
       "│ DarklyThink ┆ 16.6  ┆ 577      ┆ 35140      ┆ … ┆ 1    ┆ null        ┆ null        ┆ 76561198007 │\n",
       "│ ing         ┆       ┆          ┆            ┆   ┆      ┆             ┆             ┆ 483075      │\n",
       "└─────────────┴───────┴──────────┴────────────┴───┴──────┴─────────────┴─────────────┴─────────────┘"
      ]
     },
     "execution_count": 46,
     "metadata": {},
     "output_type": "execute_result"
    }
   ],
   "source": [
    "reviews_df.head().collect()"
   ]
  },
  {
   "cell_type": "markdown",
   "id": "278b9e59-39f1-4c19-a31e-5b8ead789f11",
   "metadata": {},
   "source": [
    "## Clean Reviews and Save"
   ]
  },
  {
   "cell_type": "code",
   "execution_count": 30,
   "id": "e3e5716d-285e-49b4-b19c-c4d19d695e9b",
   "metadata": {},
   "outputs": [],
   "source": [
    "# Get users with more than 5 reviews\n",
    "user_counts = reviews_df.group_by(\"user_id\").agg(pl.count(\"user_id\").alias(\"count\"))\n",
    "filtered_users = user_counts.filter(pl.col(\"count\") > 4)\n",
    "reviews_df = reviews_df.join(filtered_users.select(\"user_id\"), on=\"user_id\", how=\"inner\")\n",
    "\n",
    "# Get items with more than 5 reviews \n",
    "item_counts = reviews_df.group_by(\"product_id\").agg(pl.count(\"product_id\").alias(\"count\"))\n",
    "filtered_items = item_counts.filter(pl.col(\"count\") > 4)\n",
    "reviews_df = reviews_df.join(filtered_items.select(\"product_id\"), on=\"product_id\", how=\"inner\")"
   ]
  },
  {
   "cell_type": "code",
   "execution_count": 31,
   "id": "8d81955b-d732-49d0-b76f-65e3c940a323",
   "metadata": {},
   "outputs": [],
   "source": [
    "# product id and user id to int \n",
    "cleaned_reviews_df = (\n",
    "    reviews_df\n",
    "    .with_columns(\n",
    "        pl.col(\"product_id\").cast(pl.Int32), \n",
    "        pl.col(\"user_id\").cast(pl.Int64),\n",
    "        pl.col(\"date\").alias(\"review_date\")\n",
    "    ) # cast to int, and rename date\n",
    "    .drop([\"page_order\", \"username\", \"early_access\", \"compensation\", \"page\", \"date\"]) # drop useless\n",
    "    .with_columns(\n",
    "        pl.col(\"review_date\").str.to_date(strict=False),\n",
    "    )\n",
    "    .filter(pl.col(\"user_id\").is_not_null())\n",
    "    .filter(pl.col(\"product_id\").is_not_null())\n",
    "    .filter(pl.col(\"text\").is_not_null())\n",
    "    .filter(pl.col(\"review_date\").is_not_null())\n",
    ")"
   ]
  },
  {
   "cell_type": "code",
   "execution_count": 32,
   "id": "92a0e225-dea7-4a31-be90-799aba112e8e",
   "metadata": {},
   "outputs": [],
   "source": [
    "cleaned_reviews_df.collect().write_parquet(\"./data/reviews.parquet\", compression=\"zstd\", compression_level=9)"
   ]
  },
  {
   "cell_type": "code",
   "execution_count": 35,
   "id": "67a97827-8774-4a86-90e1-872f412089fd",
   "metadata": {},
   "outputs": [
    {
     "data": {
      "text/html": [
       "<div><style>\n",
       ".dataframe > thead > tr,\n",
       ".dataframe > tbody > tr {\n",
       "  text-align: right;\n",
       "  white-space: pre-wrap;\n",
       "}\n",
       "</style>\n",
       "<small>shape: (1_096_756, 7)</small><table border=\"1\" class=\"dataframe\"><thead><tr><th>hours</th><th>products</th><th>product_id</th><th>text</th><th>found_funny</th><th>user_id</th><th>review_date</th></tr><tr><td>f64</td><td>i64</td><td>i32</td><td>str</td><td>i64</td><td>i64</td><td>date</td></tr></thead><tbody><tr><td>16.6</td><td>577</td><td>35140</td><td>&quot;Still worth playing in 2018.\n",
       "P…</td><td>null</td><td>76561198007483075</td><td>2018-01-04</td></tr><tr><td>3.8</td><td>431</td><td>328100</td><td>&quot;A nice game, but better not to…</td><td>2</td><td>76561198060686749</td><td>2017-06-23</td></tr><tr><td>14.8</td><td>147</td><td>35140</td><td>&quot;aweosme game great story and s…</td><td>null</td><td>76561198023491401</td><td>2018-01-03</td></tr><tr><td>1.3</td><td>1689</td><td>328100</td><td>&quot;They do a fantastic job of mat…</td><td>null</td><td>76561198011965365</td><td>2017-03-31</td></tr><tr><td>9.5</td><td>418</td><td>506510</td><td>&quot;Overall I find Shadows of Adam…</td><td>null</td><td>76561197999294964</td><td>2017-12-28</td></tr><tr><td>&hellip;</td><td>&hellip;</td><td>&hellip;</td><td>&hellip;</td><td>&hellip;</td><td>&hellip;</td><td>&hellip;</td></tr><tr><td>1460.4</td><td>195</td><td>252490</td><td>&quot;Great game!&quot;</td><td>null</td><td>76561197981068109</td><td>2013-12-11</td></tr><tr><td>721.1</td><td>45</td><td>252490</td><td>&quot;10/10 Garry newman makes the b…</td><td>null</td><td>76561198039073768</td><td>2013-12-11</td></tr><tr><td>1460.4</td><td>195</td><td>252490</td><td>&quot;Great game!&quot;</td><td>null</td><td>76561197981068109</td><td>2013-12-11</td></tr><tr><td>239.9</td><td>749</td><td>252490</td><td>&quot;good game everybody buy now!&quot;</td><td>null</td><td>76561197970622242</td><td>2013-12-11</td></tr><tr><td>348.7</td><td>166</td><td>252490</td><td>&quot;This game is actually very fun…</td><td>null</td><td>76561197990878608</td><td>2013-12-11</td></tr></tbody></table></div>"
      ],
      "text/plain": [
       "shape: (1_096_756, 7)\n",
       "┌────────┬──────────┬────────────┬──────────────────┬─────────────┬──────────────────┬─────────────┐\n",
       "│ hours  ┆ products ┆ product_id ┆ text             ┆ found_funny ┆ user_id          ┆ review_date │\n",
       "│ ---    ┆ ---      ┆ ---        ┆ ---              ┆ ---         ┆ ---              ┆ ---         │\n",
       "│ f64    ┆ i64      ┆ i32        ┆ str              ┆ i64         ┆ i64              ┆ date        │\n",
       "╞════════╪══════════╪════════════╪══════════════════╪═════════════╪══════════════════╪═════════════╡\n",
       "│ 16.6   ┆ 577      ┆ 35140      ┆ Still worth      ┆ null        ┆ 7656119800748307 ┆ 2018-01-04  │\n",
       "│        ┆          ┆            ┆ playing in 2018. ┆             ┆ 5                ┆             │\n",
       "│        ┆          ┆            ┆ P…               ┆             ┆                  ┆             │\n",
       "│ 3.8    ┆ 431      ┆ 328100     ┆ A nice game, but ┆ 2           ┆ 7656119806068674 ┆ 2017-06-23  │\n",
       "│        ┆          ┆            ┆ better not to…   ┆             ┆ 9                ┆             │\n",
       "│ 14.8   ┆ 147      ┆ 35140      ┆ aweosme game     ┆ null        ┆ 7656119802349140 ┆ 2018-01-03  │\n",
       "│        ┆          ┆            ┆ great story and  ┆             ┆ 1                ┆             │\n",
       "│        ┆          ┆            ┆ s…               ┆             ┆                  ┆             │\n",
       "│ 1.3    ┆ 1689     ┆ 328100     ┆ They do a        ┆ null        ┆ 7656119801196536 ┆ 2017-03-31  │\n",
       "│        ┆          ┆            ┆ fantastic job of ┆             ┆ 5                ┆             │\n",
       "│        ┆          ┆            ┆ mat…             ┆             ┆                  ┆             │\n",
       "│ 9.5    ┆ 418      ┆ 506510     ┆ Overall I find   ┆ null        ┆ 7656119799929496 ┆ 2017-12-28  │\n",
       "│        ┆          ┆            ┆ Shadows of Adam… ┆             ┆ 4                ┆             │\n",
       "│ …      ┆ …        ┆ …          ┆ …                ┆ …           ┆ …                ┆ …           │\n",
       "│ 1460.4 ┆ 195      ┆ 252490     ┆ Great game!      ┆ null        ┆ 7656119798106810 ┆ 2013-12-11  │\n",
       "│        ┆          ┆            ┆                  ┆             ┆ 9                ┆             │\n",
       "│ 721.1  ┆ 45       ┆ 252490     ┆ 10/10 Garry      ┆ null        ┆ 7656119803907376 ┆ 2013-12-11  │\n",
       "│        ┆          ┆            ┆ newman makes the ┆             ┆ 8                ┆             │\n",
       "│        ┆          ┆            ┆ b…               ┆             ┆                  ┆             │\n",
       "│ 1460.4 ┆ 195      ┆ 252490     ┆ Great game!      ┆ null        ┆ 7656119798106810 ┆ 2013-12-11  │\n",
       "│        ┆          ┆            ┆                  ┆             ┆ 9                ┆             │\n",
       "│ 239.9  ┆ 749      ┆ 252490     ┆ good game        ┆ null        ┆ 7656119797062224 ┆ 2013-12-11  │\n",
       "│        ┆          ┆            ┆ everybody buy    ┆             ┆ 2                ┆             │\n",
       "│        ┆          ┆            ┆ now!             ┆             ┆                  ┆             │\n",
       "│ 348.7  ┆ 166      ┆ 252490     ┆ This game is     ┆ null        ┆ 7656119799087860 ┆ 2013-12-11  │\n",
       "│        ┆          ┆            ┆ actually very    ┆             ┆ 8                ┆             │\n",
       "│        ┆          ┆            ┆ fun…             ┆             ┆                  ┆             │\n",
       "└────────┴──────────┴────────────┴──────────────────┴─────────────┴──────────────────┴─────────────┘"
      ]
     },
     "execution_count": 35,
     "metadata": {},
     "output_type": "execute_result"
    }
   ],
   "source": [
    "cleaned_reviews_df.collect()"
   ]
  },
  {
   "cell_type": "code",
   "execution_count": 36,
   "id": "1848b8ee-d0b8-48dd-9056-bc842e65e1ae",
   "metadata": {},
   "outputs": [],
   "source": [
    "# Sort user items by user and review date for SASRec\n",
    "sorted_user_items = (\n",
    "    cleaned_reviews_df\n",
    "    .with_columns(\n",
    "        pl.col(\"user_id\").rank(method=\"dense\").alias(\"mapped_user_id\"),\n",
    "        pl.col(\"product_id\").rank(method=\"dense\").alias(\"mapped_product_id\")\n",
    "    )\n",
    "    .sort([\"mapped_user_id\", \"review_date\"])\n",
    ")"
   ]
  },
  {
   "cell_type": "code",
   "execution_count": 38,
   "id": "962982fc-decb-4a2f-8882-f28585b641eb",
   "metadata": {},
   "outputs": [],
   "source": [
    "sorted_user_items.collect().write_parquet(\"./data/sorted_reviews.parquet\", compression=\"zstd\", compression_level=9)"
   ]
  },
  {
   "cell_type": "code",
   "execution_count": 40,
   "id": "101e14e4-0381-4677-8aca-29f412b19fee",
   "metadata": {},
   "outputs": [
    {
     "data": {
      "text/html": [
       "<div><style>\n",
       ".dataframe > thead > tr,\n",
       ".dataframe > tbody > tr {\n",
       "  text-align: right;\n",
       "  white-space: pre-wrap;\n",
       "}\n",
       "</style>\n",
       "<small>shape: (1_096_756, 9)</small><table border=\"1\" class=\"dataframe\"><thead><tr><th>hours</th><th>products</th><th>product_id</th><th>text</th><th>found_funny</th><th>user_id</th><th>review_date</th><th>mapped_user_id</th><th>mapped_product_id</th></tr><tr><td>f64</td><td>i64</td><td>i32</td><td>str</td><td>i64</td><td>i64</td><td>date</td><td>u32</td><td>u32</td></tr></thead><tbody><tr><td>null</td><td>925</td><td>30</td><td>&quot;製品とかになる前にANC鯖とか中野鯖などで死ぬほどやった\n",
       "C…</td><td>null</td><td>76561197960267615</td><td>2010-12-10</td><td>1</td><td>3</td></tr><tr><td>0.0</td><td>925</td><td>70</td><td>&quot;紛れもないFPS界の金字塔。マスト！\n",
       "まあ今の人はSourc…</td><td>null</td><td>76561197960267615</td><td>2010-12-10</td><td>1</td><td>7</td></tr><tr><td>null</td><td>925</td><td>40</td><td>&quot;マップとかまんまQuakeのDMなので懐かしさいっぱい\n",
       "FP…</td><td>null</td><td>76561197960267615</td><td>2010-12-10</td><td>1</td><td>4</td></tr><tr><td>7.5</td><td>925</td><td>35130</td><td>&quot;良作アクションなので懐事情に合わせて買うもよし、セールを待つ…</td><td>null</td><td>76561197960267615</td><td>2010-12-10</td><td>1</td><td>649</td></tr><tr><td>4.9</td><td>925</td><td>33120</td><td>&quot;Alien Shooter: Vengeanceを持ってたら…</td><td>null</td><td>76561197960267615</td><td>2010-12-10</td><td>1</td><td>605</td></tr><tr><td>&hellip;</td><td>&hellip;</td><td>&hellip;</td><td>&hellip;</td><td>&hellip;</td><td>&hellip;</td><td>&hellip;</td><td>&hellip;</td><td>&hellip;</td></tr><tr><td>0.9</td><td>5</td><td>322330</td><td>&quot;Quite boring at the beginning …</td><td>null</td><td>76561198801034135</td><td>2018-01-03</td><td>113979</td><td>3602</td></tr><tr><td>0.2</td><td>5</td><td>238460</td><td>&quot;Real arcade&quot;</td><td>null</td><td>76561198801034135</td><td>2018-01-04</td><td>113979</td><td>1719</td></tr><tr><td>0.3</td><td>5</td><td>674940</td><td>&quot;Laughing and yelling crazily i…</td><td>null</td><td>76561198801034135</td><td>2018-01-04</td><td>113979</td><td>8456</td></tr><tr><td>0.5</td><td>5</td><td>204360</td><td>&quot;Childhood comes back&quot;</td><td>null</td><td>76561198801034135</td><td>2018-01-04</td><td>113979</td><td>1177</td></tr><tr><td>0.1</td><td>5</td><td>440</td><td>&quot;Better than Overwatch and Pala…</td><td>null</td><td>76561198801034135</td><td>2018-01-05</td><td>113979</td><td>20</td></tr></tbody></table></div>"
      ],
      "text/plain": [
       "shape: (1_096_756, 9)\n",
       "┌───────┬──────────┬────────────┬────────────┬───┬────────────┬────────────┬───────────┬───────────┐\n",
       "│ hours ┆ products ┆ product_id ┆ text       ┆ … ┆ user_id    ┆ review_dat ┆ mapped_us ┆ mapped_pr │\n",
       "│ ---   ┆ ---      ┆ ---        ┆ ---        ┆   ┆ ---        ┆ e          ┆ er_id     ┆ oduct_id  │\n",
       "│ f64   ┆ i64      ┆ i32        ┆ str        ┆   ┆ i64        ┆ ---        ┆ ---       ┆ ---       │\n",
       "│       ┆          ┆            ┆            ┆   ┆            ┆ date       ┆ u32       ┆ u32       │\n",
       "╞═══════╪══════════╪════════════╪════════════╪═══╪════════════╪════════════╪═══════════╪═══════════╡\n",
       "│ null  ┆ 925      ┆ 30         ┆ 製品とかに ┆ … ┆ 7656119796 ┆ 2010-12-10 ┆ 1         ┆ 3         │\n",
       "│       ┆          ┆            ┆ なる前にAN ┆   ┆ 0267615    ┆            ┆           ┆           │\n",
       "│       ┆          ┆            ┆ C鯖とか中  ┆   ┆            ┆            ┆           ┆           │\n",
       "│       ┆          ┆            ┆ 野鯖などで ┆   ┆            ┆            ┆           ┆           │\n",
       "│       ┆          ┆            ┆ 死ぬほどや ┆   ┆            ┆            ┆           ┆           │\n",
       "│       ┆          ┆            ┆ った       ┆   ┆            ┆            ┆           ┆           │\n",
       "│       ┆          ┆            ┆ C…         ┆   ┆            ┆            ┆           ┆           │\n",
       "│ 0.0   ┆ 925      ┆ 70         ┆ 紛れもない ┆ … ┆ 7656119796 ┆ 2010-12-10 ┆ 1         ┆ 7         │\n",
       "│       ┆          ┆            ┆ FPS界の金  ┆   ┆ 0267615    ┆            ┆           ┆           │\n",
       "│       ┆          ┆            ┆ 字塔。マス ┆   ┆            ┆            ┆           ┆           │\n",
       "│       ┆          ┆            ┆ ト！       ┆   ┆            ┆            ┆           ┆           │\n",
       "│       ┆          ┆            ┆ まあ今の人 ┆   ┆            ┆            ┆           ┆           │\n",
       "│       ┆          ┆            ┆ はSourc…   ┆   ┆            ┆            ┆           ┆           │\n",
       "│ null  ┆ 925      ┆ 40         ┆ マップとか ┆ … ┆ 7656119796 ┆ 2010-12-10 ┆ 1         ┆ 4         │\n",
       "│       ┆          ┆            ┆ まんまQuak ┆   ┆ 0267615    ┆            ┆           ┆           │\n",
       "│       ┆          ┆            ┆ eのDMなの  ┆   ┆            ┆            ┆           ┆           │\n",
       "│       ┆          ┆            ┆ で懐かしさ ┆   ┆            ┆            ┆           ┆           │\n",
       "│       ┆          ┆            ┆ いっぱい   ┆   ┆            ┆            ┆           ┆           │\n",
       "│       ┆          ┆            ┆ FP…        ┆   ┆            ┆            ┆           ┆           │\n",
       "│ 7.5   ┆ 925      ┆ 35130      ┆ 良作アクシ ┆ … ┆ 7656119796 ┆ 2010-12-10 ┆ 1         ┆ 649       │\n",
       "│       ┆          ┆            ┆ ョンなので ┆   ┆ 0267615    ┆            ┆           ┆           │\n",
       "│       ┆          ┆            ┆ 懐事情に合 ┆   ┆            ┆            ┆           ┆           │\n",
       "│       ┆          ┆            ┆ わせて買う ┆   ┆            ┆            ┆           ┆           │\n",
       "│       ┆          ┆            ┆ もよし、セ ┆   ┆            ┆            ┆           ┆           │\n",
       "│       ┆          ┆            ┆ ールを待つ ┆   ┆            ┆            ┆           ┆           │\n",
       "│       ┆          ┆            ┆ …          ┆   ┆            ┆            ┆           ┆           │\n",
       "│ 4.9   ┆ 925      ┆ 33120      ┆ Alien      ┆ … ┆ 7656119796 ┆ 2010-12-10 ┆ 1         ┆ 605       │\n",
       "│       ┆          ┆            ┆ Shooter:   ┆   ┆ 0267615    ┆            ┆           ┆           │\n",
       "│       ┆          ┆            ┆ Vengeance  ┆   ┆            ┆            ┆           ┆           │\n",
       "│       ┆          ┆            ┆ を持ってた ┆   ┆            ┆            ┆           ┆           │\n",
       "│       ┆          ┆            ┆ ら…        ┆   ┆            ┆            ┆           ┆           │\n",
       "│ …     ┆ …        ┆ …          ┆ …          ┆ … ┆ …          ┆ …          ┆ …         ┆ …         │\n",
       "│ 0.9   ┆ 5        ┆ 322330     ┆ Quite      ┆ … ┆ 7656119880 ┆ 2018-01-03 ┆ 113979    ┆ 3602      │\n",
       "│       ┆          ┆            ┆ boring at  ┆   ┆ 1034135    ┆            ┆           ┆           │\n",
       "│       ┆          ┆            ┆ the        ┆   ┆            ┆            ┆           ┆           │\n",
       "│       ┆          ┆            ┆ beginning  ┆   ┆            ┆            ┆           ┆           │\n",
       "│       ┆          ┆            ┆ …          ┆   ┆            ┆            ┆           ┆           │\n",
       "│ 0.2   ┆ 5        ┆ 238460     ┆ Real       ┆ … ┆ 7656119880 ┆ 2018-01-04 ┆ 113979    ┆ 1719      │\n",
       "│       ┆          ┆            ┆ arcade     ┆   ┆ 1034135    ┆            ┆           ┆           │\n",
       "│ 0.3   ┆ 5        ┆ 674940     ┆ Laughing   ┆ … ┆ 7656119880 ┆ 2018-01-04 ┆ 113979    ┆ 8456      │\n",
       "│       ┆          ┆            ┆ and        ┆   ┆ 1034135    ┆            ┆           ┆           │\n",
       "│       ┆          ┆            ┆ yelling    ┆   ┆            ┆            ┆           ┆           │\n",
       "│       ┆          ┆            ┆ crazily i… ┆   ┆            ┆            ┆           ┆           │\n",
       "│ 0.5   ┆ 5        ┆ 204360     ┆ Childhood  ┆ … ┆ 7656119880 ┆ 2018-01-04 ┆ 113979    ┆ 1177      │\n",
       "│       ┆          ┆            ┆ comes back ┆   ┆ 1034135    ┆            ┆           ┆           │\n",
       "│ 0.1   ┆ 5        ┆ 440        ┆ Better     ┆ … ┆ 7656119880 ┆ 2018-01-05 ┆ 113979    ┆ 20        │\n",
       "│       ┆          ┆            ┆ than       ┆   ┆ 1034135    ┆            ┆           ┆           │\n",
       "│       ┆          ┆            ┆ Overwatch  ┆   ┆            ┆            ┆           ┆           │\n",
       "│       ┆          ┆            ┆ and Pala…  ┆   ┆            ┆            ┆           ┆           │\n",
       "└───────┴──────────┴────────────┴────────────┴───┴────────────┴────────────┴───────────┴───────────┘"
      ]
     },
     "execution_count": 40,
     "metadata": {},
     "output_type": "execute_result"
    }
   ],
   "source": [
    "sorted_user_items.collect()"
   ]
  },
  {
   "cell_type": "code",
   "execution_count": 36,
   "id": "0643541a-77d4-4251-bb51-555afa65a027",
   "metadata": {},
   "outputs": [
    {
     "name": "stdout",
     "output_type": "stream",
     "text": [
      "shape: (1, 6)\n",
      "┌──────────┬───────┬──────────┬────────────┬────────────┬──────┐\n",
      "│ username ┆ hours ┆ products ┆ product_id ┆ page_order ┆ date │\n",
      "│ ---      ┆ ---   ┆ ---      ┆ ---        ┆ ---        ┆ ---  │\n",
      "│ u32      ┆ u32   ┆ u32      ┆ u32        ┆ u32        ┆ u32  │\n",
      "╞══════════╪═══════╪══════════╪════════════╪════════════╪══════╡\n",
      "│ 0        ┆ 26537 ┆ 14961    ┆ 0          ┆ 0          ┆ 0    │\n",
      "└──────────┴───────┴──────────┴────────────┴────────────┴──────┘\n",
      "shape: (1, 6)\n",
      "┌──────┬──────────────┬──────┬─────────────┬──────────────┬─────────┐\n",
      "│ text ┆ early_access ┆ page ┆ found_funny ┆ compensation ┆ user_id │\n",
      "│ ---  ┆ ---          ┆ ---  ┆ ---         ┆ ---          ┆ ---     │\n",
      "│ u32  ┆ u32          ┆ u32  ┆ u32         ┆ u32          ┆ u32     │\n",
      "╞══════╪══════════════╪══════╪═════════════╪══════════════╪═════════╡\n",
      "│ 0    ┆ 0            ┆ 0    ┆ 6592313     ┆ 7647446      ┆ 4616846 │\n",
      "└──────┴──────────────┴──────┴─────────────┴──────────────┴─────────┘\n",
      "shape: (1, 12)\n",
      "┌──────────┬───────┬──────────┬────────────┬───┬──────┬─────────────┬──────────────┬─────────┐\n",
      "│ username ┆ hours ┆ products ┆ product_id ┆ … ┆ page ┆ found_funny ┆ compensation ┆ user_id │\n",
      "│ ---      ┆ ---   ┆ ---      ┆ ---        ┆   ┆ ---  ┆ ---         ┆ ---          ┆ ---     │\n",
      "│ u32      ┆ u32   ┆ u32      ┆ u32        ┆   ┆ u32  ┆ u32         ┆ u32          ┆ u32     │\n",
      "╞══════════╪═══════╪══════════╪════════════╪═══╪══════╪═════════════╪══════════════╪═════════╡\n",
      "│ 4335     ┆ 4335  ┆ 4317     ┆ 4335       ┆ … ┆ 4335 ┆ 722         ┆ 14           ┆ 1220    │\n",
      "└──────────┴───────┴──────────┴────────────┴───┴──────┴─────────────┴──────────────┴─────────┘\n"
     ]
    }
   ],
   "source": [
    "print(cleaned_reviews_df.null_count().collect()[:, :6])\n",
    "print(cleaned_reviews_df.null_count().collect()[:, 6:])\n",
    "hours_zero_count = cleaned_reviews_df.filter(pl.col(\"hours\") == 0).count()\n",
    "print(hours_zero_count.collect())"
   ]
  },
  {
   "cell_type": "code",
   "execution_count": null,
   "id": "361816c8-1c51-4b84-a31f-cd2aa374334f",
   "metadata": {},
   "outputs": [],
   "source": []
  },
  {
   "cell_type": "code",
   "execution_count": null,
   "id": "63bcfe6f-83eb-4162-85e8-59757cebd1b3",
   "metadata": {},
   "outputs": [],
   "source": []
  },
  {
   "cell_type": "markdown",
   "id": "cd36e522-c1e9-4e03-b8f9-e5f448804369",
   "metadata": {},
   "source": [
    "## Join Reviews and Games Metadata on Item ID"
   ]
  },
  {
   "cell_type": "code",
   "execution_count": 37,
   "id": "0a292326-317c-4ef0-ac8b-b4f2d61f611e",
   "metadata": {},
   "outputs": [],
   "source": [
    "review_meta_df = cleaned_reviews_df.join(cleaned_games_df, left_on=\"product_id\", right_on=\"id\", how=\"inner\")"
   ]
  },
  {
   "cell_type": "code",
   "execution_count": 38,
   "id": "213df6eb-3345-451a-8859-7cee76e504ac",
   "metadata": {},
   "outputs": [
    {
     "name": "stdout",
     "output_type": "stream",
     "text": [
      "shape: (5, 27)\n",
      "┌────────────┬───────┬──────────┬────────────┬───┬────────────┬────────────┬───────────┬───────────┐\n",
      "│ username   ┆ hours ┆ products ┆ product_id ┆ … ┆ early_acce ┆ developer  ┆ sentiment ┆ metascore │\n",
      "│ ---        ┆ ---   ┆ ---      ┆ ---        ┆   ┆ ss_right   ┆ ---        ┆ ---       ┆ ---       │\n",
      "│ str        ┆ f64   ┆ i64      ┆ i32        ┆   ┆ ---        ┆ str        ┆ str       ┆ str       │\n",
      "│            ┆       ┆          ┆            ┆   ┆ bool       ┆            ┆           ┆           │\n",
      "╞════════════╪═══════╪══════════╪════════════╪═══╪════════════╪════════════╪═══════════╪═══════════╡\n",
      "│ Chaos      ┆ 0.1   ┆ 41       ┆ 725280     ┆ … ┆ false      ┆ Vyacheslav ┆ Positive  ┆ null      │\n",
      "│ Syren      ┆       ┆          ┆            ┆   ┆            ┆ Shilikhin  ┆           ┆           │\n",
      "│ ₮ʜᴇ Wᴀʀᴛᴏɴ ┆ 51.1  ┆ 769      ┆ 328100     ┆ … ┆ false      ┆ Ino-Co     ┆ Mixed     ┆ null      │\n",
      "│            ┆       ┆          ┆            ┆   ┆            ┆ Plus       ┆           ┆           │\n",
      "│ hello?<    ┆ 14.6  ┆ 2        ┆ 328100     ┆ … ┆ false      ┆ Ino-Co     ┆ Mixed     ┆ null      │\n",
      "│            ┆       ┆          ┆            ┆   ┆            ┆ Plus       ┆           ┆           │\n",
      "│ Cyderine91 ┆ 5.0   ┆ 64       ┆ 35140      ┆ … ┆ false      ┆ Rocksteady ┆ Overwhelm ┆ 91        │\n",
      "│ 6          ┆       ┆          ┆            ┆   ┆            ┆ Studios,Fe ┆ ingly     ┆           │\n",
      "│            ┆       ┆          ┆            ┆   ┆            ┆ ral Inter… ┆ Positive  ┆           │\n",
      "│ DarklyThin ┆ 16.6  ┆ 577      ┆ 35140      ┆ … ┆ false      ┆ Rocksteady ┆ Overwhelm ┆ 91        │\n",
      "│ king       ┆       ┆          ┆            ┆   ┆            ┆ Studios,Fe ┆ ingly     ┆           │\n",
      "│            ┆       ┆          ┆            ┆   ┆            ┆ ral Inter… ┆ Positive  ┆           │\n",
      "└────────────┴───────┴──────────┴────────────┴───┴────────────┴────────────┴───────────┴───────────┘\n"
     ]
    }
   ],
   "source": [
    "print(review_meta_df.head().collect())"
   ]
  },
  {
   "cell_type": "code",
   "execution_count": 41,
   "id": "8113e580-1ac7-446c-9d30-8f8d60c993bc",
   "metadata": {},
   "outputs": [
    {
     "name": "stdout",
     "output_type": "stream",
     "text": [
      "shape: (1, 6)\n",
      "┌──────────┬───────┬──────────┬────────────┬────────────┬──────┐\n",
      "│ username ┆ hours ┆ products ┆ product_id ┆ page_order ┆ date │\n",
      "│ ---      ┆ ---   ┆ ---      ┆ ---        ┆ ---        ┆ ---  │\n",
      "│ u32      ┆ u32   ┆ u32      ┆ u32        ┆ u32        ┆ u32  │\n",
      "╞══════════╪═══════╪══════════╪════════════╪════════════╪══════╡\n",
      "│ 0        ┆ 26537 ┆ 14962    ┆ 0          ┆ 0          ┆ 0    │\n",
      "└──────────┴───────┴──────────┴────────────┴────────────┴──────┘\n",
      "shape: (1, 6)\n",
      "┌──────┬──────────────┬──────┬─────────────┬──────────────┬─────────┐\n",
      "│ text ┆ early_access ┆ page ┆ found_funny ┆ compensation ┆ user_id │\n",
      "│ ---  ┆ ---          ┆ ---  ┆ ---         ┆ ---          ┆ ---     │\n",
      "│ u32  ┆ u32          ┆ u32  ┆ u32         ┆ u32          ┆ u32     │\n",
      "╞══════╪══════════════╪══════╪═════════════╪══════════════╪═════════╡\n",
      "│ 0    ┆ 0            ┆ 0    ┆ 6597878     ┆ 7653829      ┆ 4620442 │\n",
      "└──────┴──────────────┴──────┴─────────────┴──────────────┴─────────┘\n",
      "shape: (1, 6)\n",
      "┌───────────┬────────┬──────────┬───────┬─────┬──────────────┐\n",
      "│ publisher ┆ genres ┆ app_name ┆ title ┆ url ┆ release_date │\n",
      "│ ---       ┆ ---    ┆ ---      ┆ ---   ┆ --- ┆ ---          │\n",
      "│ u32       ┆ u32    ┆ u32      ┆ u32   ┆ u32 ┆ u32          │\n",
      "╞═══════════╪════════╪══════════╪═══════╪═════╪══════════════╡\n",
      "│ 95380     ┆ 39671  ┆ 0        ┆ 0     ┆ 0   ┆ 10690        │\n",
      "└───────────┴────────┴──────────┴───────┴─────┴──────────────┘\n",
      "shape: (1, 6)\n",
      "┌──────┬────────────────┬─────────────┬───────┬───────┬────────────────────┐\n",
      "│ tags ┆ discount_price ┆ reviews_url ┆ specs ┆ price ┆ early_access_right │\n",
      "│ ---  ┆ ---            ┆ ---         ┆ ---   ┆ ---   ┆ ---                │\n",
      "│ u32  ┆ u32            ┆ u32         ┆ u32   ┆ u32   ┆ u32                │\n",
      "╞══════╪════════════════╪═════════════╪═══════╪═══════╪════════════════════╡\n",
      "│ 45   ┆ 7785822        ┆ 0           ┆ 40363 ┆ 66742 ┆ 0                  │\n",
      "└──────┴────────────────┴─────────────┴───────┴───────┴────────────────────┘\n",
      "shape: (1, 3)\n",
      "┌───────────┬───────────┬───────────┐\n",
      "│ developer ┆ sentiment ┆ metascore │\n",
      "│ ---       ┆ ---       ┆ ---       │\n",
      "│ u32       ┆ u32       ┆ u32       │\n",
      "╞═══════════╪═══════════╪═══════════╡\n",
      "│ 57611     ┆ 1327      ┆ 3152135   │\n",
      "└───────────┴───────────┴───────────┘\n"
     ]
    }
   ],
   "source": [
    "print(review_meta_df.null_count().collect(streaming=True)[:, :6])\n",
    "print(review_meta_df.null_count().collect(streaming=True)[:, 6:12])\n",
    "print(review_meta_df.null_count().collect(streaming=True)[:, 12:18])\n",
    "print(review_meta_df.null_count().collect(streaming=True)[:, 18:24])\n",
    "print(review_meta_df.null_count().collect(streaming=True)[:, 24:])"
   ]
  },
  {
   "cell_type": "markdown",
   "id": "d41d1368-5964-4f53-9abf-be6e91a8006a",
   "metadata": {},
   "source": [
    "### Clean Reviews"
   ]
  },
  {
   "cell_type": "code",
   "execution_count": 49,
   "id": "917eecce-b90a-41fd-b2e2-af4e34efbaeb",
   "metadata": {},
   "outputs": [],
   "source": [
    "# drop early access right column, drop samples with null user_id, rename data to review_date \n",
    "# drop samples with null sentiment \n",
    "cleaned_review_meta_df = (\n",
    "    review_meta_df\n",
    "    .drop([\"early_access_right\", \"username\", \"app_name\"])\n",
    "    .with_columns(pl.col(\"date\").alias(\"review_date\"))\n",
    "    .filter(pl.col(\"user_id\").is_not_null())\n",
    ")"
   ]
  },
  {
   "cell_type": "code",
   "execution_count": 50,
   "id": "c8c55347-fff9-462c-a2d2-16e54f537a10",
   "metadata": {},
   "outputs": [
    {
     "name": "stdout",
     "output_type": "stream",
     "text": [
      "3179096\n"
     ]
    }
   ],
   "source": [
    "# Number of reviews where user id is not null\n",
    "print(cleaned_review_meta_df.collect().height)"
   ]
  },
  {
   "cell_type": "markdown",
   "id": "8b2d6161-8b53-47b1-b34a-fc5b4da6e00a",
   "metadata": {},
   "source": [
    "### Save Cleaned Data"
   ]
  },
  {
   "cell_type": "code",
   "execution_count": 52,
   "id": "4f98bd34-5d19-4d2f-bbdc-0def5e765f3c",
   "metadata": {},
   "outputs": [
    {
     "ename": "KeyboardInterrupt",
     "evalue": "",
     "output_type": "error",
     "traceback": [
      "\u001b[0;31m---------------------------------------------------------------------------\u001b[0m",
      "\u001b[0;31mKeyboardInterrupt\u001b[0m                         Traceback (most recent call last)",
      "\u001b[0;32m/tmp/ipykernel_39538/2008283227.py\u001b[0m in \u001b[0;36m?\u001b[0;34m()\u001b[0m\n\u001b[0;32m----> 1\u001b[0;31m \u001b[0mcleaned_review_meta_df\u001b[0m\u001b[0;34m.\u001b[0m\u001b[0mcollect\u001b[0m\u001b[0;34m(\u001b[0m\u001b[0;34m)\u001b[0m\u001b[0;34m.\u001b[0m\u001b[0mwrite_parquet\u001b[0m\u001b[0;34m(\u001b[0m\u001b[0;34m\"./data/cleaned_review_meta.parquet\"\u001b[0m\u001b[0;34m,\u001b[0m \u001b[0mcompression\u001b[0m\u001b[0;34m=\u001b[0m\u001b[0;34m\"zstd\"\u001b[0m\u001b[0;34m,\u001b[0m \u001b[0mcompression_level\u001b[0m\u001b[0;34m=\u001b[0m\u001b[0;36m22\u001b[0m\u001b[0;34m)\u001b[0m\u001b[0;34m\u001b[0m\u001b[0;34m\u001b[0m\u001b[0m\n\u001b[0m",
      "\u001b[0;32m/usr/lib/python3.12/site-packages/polars/dataframe/frame.py\u001b[0m in \u001b[0;36m?\u001b[0;34m(self, file, compression, compression_level, statistics, row_group_size, data_page_size, use_pyarrow, pyarrow_options, partition_by, partition_chunk_size_bytes)\u001b[0m\n\u001b[1;32m   3843\u001b[0m \u001b[0;34m\u001b[0m\u001b[0m\n\u001b[1;32m   3844\u001b[0m             \u001b[0;32mif\u001b[0m \u001b[0misinstance\u001b[0m\u001b[0;34m(\u001b[0m\u001b[0mpartition_by\u001b[0m\u001b[0;34m,\u001b[0m \u001b[0mstr\u001b[0m\u001b[0;34m)\u001b[0m\u001b[0;34m:\u001b[0m\u001b[0;34m\u001b[0m\u001b[0;34m\u001b[0m\u001b[0m\n\u001b[1;32m   3845\u001b[0m                 \u001b[0mpartition_by\u001b[0m \u001b[0;34m=\u001b[0m \u001b[0;34m[\u001b[0m\u001b[0mpartition_by\u001b[0m\u001b[0;34m]\u001b[0m\u001b[0;34m\u001b[0m\u001b[0;34m\u001b[0m\u001b[0m\n\u001b[1;32m   3846\u001b[0m \u001b[0;34m\u001b[0m\u001b[0m\n\u001b[0;32m-> 3847\u001b[0;31m             self._df.write_parquet(\n\u001b[0m\u001b[1;32m   3848\u001b[0m                 \u001b[0mfile\u001b[0m\u001b[0;34m,\u001b[0m\u001b[0;34m\u001b[0m\u001b[0;34m\u001b[0m\u001b[0m\n\u001b[1;32m   3849\u001b[0m                 \u001b[0mcompression\u001b[0m\u001b[0;34m,\u001b[0m\u001b[0;34m\u001b[0m\u001b[0;34m\u001b[0m\u001b[0m\n\u001b[1;32m   3850\u001b[0m                 \u001b[0mcompression_level\u001b[0m\u001b[0;34m,\u001b[0m\u001b[0;34m\u001b[0m\u001b[0;34m\u001b[0m\u001b[0m\n",
      "\u001b[0;31mKeyboardInterrupt\u001b[0m: "
     ]
    }
   ],
   "source": [
    "cleaned_review_meta_df.collect().write_parquet(\"./data/cleaned_review_meta.parquet\", compression=\"zstd\", compression_level=9)"
   ]
  },
  {
   "cell_type": "markdown",
   "id": "bea0a3a0-f093-4dc4-93f6-b44aa2f63df6",
   "metadata": {},
   "source": [
    "#### Clean Again"
   ]
  },
  {
   "cell_type": "code",
   "execution_count": 3,
   "id": "3d7eab95-2b99-47b4-884a-1a484336f8f6",
   "metadata": {},
   "outputs": [],
   "source": [
    "df = pl.read_parquet(\"./data/cleaned_review_meta.parquet\")"
   ]
  },
  {
   "cell_type": "code",
   "execution_count": 95,
   "id": "1ac96bd3-c318-4f75-8308-3b7d5cbc814a",
   "metadata": {},
   "outputs": [
    {
     "data": {
      "text/html": [
       "<div><style>\n",
       ".dataframe > thead > tr,\n",
       ".dataframe > tbody > tr {\n",
       "  text-align: right;\n",
       "  white-space: pre-wrap;\n",
       "}\n",
       "</style>\n",
       "<small>shape: (1, 25)</small><table border=\"1\" class=\"dataframe\"><thead><tr><th>hours</th><th>products</th><th>product_id</th><th>page_order</th><th>date</th><th>text</th><th>early_access</th><th>page</th><th>found_funny</th><th>compensation</th><th>user_id</th><th>publisher</th><th>genres</th><th>title</th><th>url</th><th>release_date</th><th>tags</th><th>discount_price</th><th>reviews_url</th><th>specs</th><th>price</th><th>developer</th><th>sentiment</th><th>metascore</th><th>review_date</th></tr><tr><td>u32</td><td>u32</td><td>u32</td><td>u32</td><td>u32</td><td>u32</td><td>u32</td><td>u32</td><td>u32</td><td>u32</td><td>u32</td><td>u32</td><td>u32</td><td>u32</td><td>u32</td><td>u32</td><td>u32</td><td>u32</td><td>u32</td><td>u32</td><td>u32</td><td>u32</td><td>u32</td><td>u32</td><td>u32</td></tr></thead><tbody><tr><td>7904</td><td>9735</td><td>0</td><td>0</td><td>0</td><td>0</td><td>0</td><td>0</td><td>2737588</td><td>3128303</td><td>0</td><td>31274</td><td>12898</td><td>0</td><td>0</td><td>3319</td><td>18</td><td>3173566</td><td>0</td><td>13864</td><td>26609</td><td>19518</td><td>482</td><td>1276230</td><td>0</td></tr></tbody></table></div>"
      ],
      "text/plain": [
       "shape: (1, 25)\n",
       "┌───────┬──────────┬────────────┬────────────┬───┬───────────┬───────────┬───────────┬─────────────┐\n",
       "│ hours ┆ products ┆ product_id ┆ page_order ┆ … ┆ developer ┆ sentiment ┆ metascore ┆ review_date │\n",
       "│ ---   ┆ ---      ┆ ---        ┆ ---        ┆   ┆ ---       ┆ ---       ┆ ---       ┆ ---         │\n",
       "│ u32   ┆ u32      ┆ u32        ┆ u32        ┆   ┆ u32       ┆ u32       ┆ u32       ┆ u32         │\n",
       "╞═══════╪══════════╪════════════╪════════════╪═══╪═══════════╪═══════════╪═══════════╪═════════════╡\n",
       "│ 7904  ┆ 9735     ┆ 0          ┆ 0          ┆ … ┆ 19518     ┆ 482       ┆ 1276230   ┆ 0           │\n",
       "└───────┴──────────┴────────────┴────────────┴───┴───────────┴───────────┴───────────┴─────────────┘"
      ]
     },
     "execution_count": 95,
     "metadata": {},
     "output_type": "execute_result"
    }
   ],
   "source": [
    "df.null_count()"
   ]
  },
  {
   "cell_type": "code",
   "execution_count": 104,
   "id": "28d477cc-f912-4bc4-bdf4-9e5da2f6be72",
   "metadata": {},
   "outputs": [],
   "source": [
    "# Convert to datetime\n",
    "df_datetime = df.with_columns(\n",
    "    pl.col(\"review_date\").str.to_date(strict=False),\n",
    "    pl.col(\"release_date\").str.to_date(strict=False)\n",
    ")"
   ]
  },
  {
   "cell_type": "code",
   "execution_count": 105,
   "id": "1bdb100d-a53a-4f12-9888-d81384dd575c",
   "metadata": {},
   "outputs": [
    {
     "data": {
      "text/html": [
       "<div><style>\n",
       ".dataframe > thead > tr,\n",
       ".dataframe > tbody > tr {\n",
       "  text-align: right;\n",
       "  white-space: pre-wrap;\n",
       "}\n",
       "</style>\n",
       "<small>shape: (1, 25)</small><table border=\"1\" class=\"dataframe\"><thead><tr><th>hours</th><th>products</th><th>product_id</th><th>page_order</th><th>date</th><th>text</th><th>early_access</th><th>page</th><th>found_funny</th><th>compensation</th><th>user_id</th><th>publisher</th><th>genres</th><th>title</th><th>url</th><th>release_date</th><th>tags</th><th>discount_price</th><th>reviews_url</th><th>specs</th><th>price</th><th>developer</th><th>sentiment</th><th>metascore</th><th>review_date</th></tr><tr><td>u32</td><td>u32</td><td>u32</td><td>u32</td><td>u32</td><td>u32</td><td>u32</td><td>u32</td><td>u32</td><td>u32</td><td>u32</td><td>u32</td><td>u32</td><td>u32</td><td>u32</td><td>u32</td><td>u32</td><td>u32</td><td>u32</td><td>u32</td><td>u32</td><td>u32</td><td>u32</td><td>u32</td><td>u32</td></tr></thead><tbody><tr><td>7904</td><td>9735</td><td>0</td><td>0</td><td>0</td><td>0</td><td>0</td><td>0</td><td>2737588</td><td>3128303</td><td>0</td><td>31274</td><td>12898</td><td>0</td><td>0</td><td>15543</td><td>18</td><td>3173566</td><td>0</td><td>13864</td><td>26609</td><td>19518</td><td>482</td><td>1276230</td><td>0</td></tr></tbody></table></div>"
      ],
      "text/plain": [
       "shape: (1, 25)\n",
       "┌───────┬──────────┬────────────┬────────────┬───┬───────────┬───────────┬───────────┬─────────────┐\n",
       "│ hours ┆ products ┆ product_id ┆ page_order ┆ … ┆ developer ┆ sentiment ┆ metascore ┆ review_date │\n",
       "│ ---   ┆ ---      ┆ ---        ┆ ---        ┆   ┆ ---       ┆ ---       ┆ ---       ┆ ---         │\n",
       "│ u32   ┆ u32      ┆ u32        ┆ u32        ┆   ┆ u32       ┆ u32       ┆ u32       ┆ u32         │\n",
       "╞═══════╪══════════╪════════════╪════════════╪═══╪═══════════╪═══════════╪═══════════╪═════════════╡\n",
       "│ 7904  ┆ 9735     ┆ 0          ┆ 0          ┆ … ┆ 19518     ┆ 482       ┆ 1276230   ┆ 0           │\n",
       "└───────┴──────────┴────────────┴────────────┴───┴───────────┴───────────┴───────────┴─────────────┘"
      ]
     },
     "execution_count": 105,
     "metadata": {},
     "output_type": "execute_result"
    }
   ],
   "source": [
    "df_datetime.null_count()"
   ]
  },
  {
   "cell_type": "code",
   "execution_count": 106,
   "id": "cc9c408f-a708-4526-a5c5-51125bdbbf98",
   "metadata": {},
   "outputs": [
    {
     "data": {
      "text/html": [
       "<div><style>\n",
       ".dataframe > thead > tr,\n",
       ".dataframe > tbody > tr {\n",
       "  text-align: right;\n",
       "  white-space: pre-wrap;\n",
       "}\n",
       "</style>\n",
       "<small>shape: (1, 25)</small><table border=\"1\" class=\"dataframe\"><thead><tr><th>hours</th><th>products</th><th>product_id</th><th>page_order</th><th>date</th><th>text</th><th>early_access</th><th>page</th><th>found_funny</th><th>compensation</th><th>user_id</th><th>publisher</th><th>genres</th><th>title</th><th>url</th><th>release_date</th><th>tags</th><th>discount_price</th><th>reviews_url</th><th>specs</th><th>price</th><th>developer</th><th>sentiment</th><th>metascore</th><th>review_date</th></tr><tr><td>u32</td><td>u32</td><td>u32</td><td>u32</td><td>u32</td><td>u32</td><td>u32</td><td>u32</td><td>u32</td><td>u32</td><td>u32</td><td>u32</td><td>u32</td><td>u32</td><td>u32</td><td>u32</td><td>u32</td><td>u32</td><td>u32</td><td>u32</td><td>u32</td><td>u32</td><td>u32</td><td>u32</td><td>u32</td></tr></thead><tbody><tr><td>0</td><td>0</td><td>0</td><td>0</td><td>0</td><td>0</td><td>0</td><td>0</td><td>2653981</td><td>3031734</td><td>0</td><td>0</td><td>0</td><td>0</td><td>0</td><td>0</td><td>0</td><td>3076114</td><td>0</td><td>0</td><td>0</td><td>0</td><td>0</td><td>1222572</td><td>0</td></tr></tbody></table></div>"
      ],
      "text/plain": [
       "shape: (1, 25)\n",
       "┌───────┬──────────┬────────────┬────────────┬───┬───────────┬───────────┬───────────┬─────────────┐\n",
       "│ hours ┆ products ┆ product_id ┆ page_order ┆ … ┆ developer ┆ sentiment ┆ metascore ┆ review_date │\n",
       "│ ---   ┆ ---      ┆ ---        ┆ ---        ┆   ┆ ---       ┆ ---       ┆ ---       ┆ ---         │\n",
       "│ u32   ┆ u32      ┆ u32        ┆ u32        ┆   ┆ u32       ┆ u32       ┆ u32       ┆ u32         │\n",
       "╞═══════╪══════════╪════════════╪════════════╪═══╪═══════════╪═══════════╪═══════════╪═════════════╡\n",
       "│ 0     ┆ 0        ┆ 0          ┆ 0          ┆ … ┆ 0         ┆ 0         ┆ 1222572   ┆ 0           │\n",
       "└───────┴──────────┴────────────┴────────────┴───┴───────────┴───────────┴───────────┴─────────────┘"
      ]
     },
     "execution_count": 106,
     "metadata": {},
     "output_type": "execute_result"
    }
   ],
   "source": [
    "# Remove nulls \n",
    "df_filtered = df_datetime.filter(\n",
    "    pl.col(\"sentiment\").is_not_null() &\n",
    "    pl.col(\"tags\").is_not_null() &\n",
    "    pl.col(\"release_date\").is_not_null() &\n",
    "    pl.col(\"genres\").is_not_null() & \n",
    "    pl.col(\"specs\").is_not_null() & \n",
    "    pl.col(\"price\").is_not_null() & \n",
    "    pl.col(\"hours\").is_not_null() &\n",
    "    pl.col(\"publisher\").is_not_null() &\n",
    "    pl.col(\"developer\").is_not_null() & \n",
    "    pl.col(\"products\").is_not_null() & \n",
    "    pl.col(\"review_date\").is_not_null() &\n",
    "    pl.col(\"release_date\").is_not_null()\n",
    ")\n",
    "    \n",
    "df_filtered.null_count()"
   ]
  },
  {
   "cell_type": "code",
   "execution_count": 107,
   "id": "6517b31a-18d5-45a2-8255-c651cc2babd9",
   "metadata": {},
   "outputs": [
    {
     "data": {
      "text/html": [
       "<div><style>\n",
       ".dataframe > thead > tr,\n",
       ".dataframe > tbody > tr {\n",
       "  text-align: right;\n",
       "  white-space: pre-wrap;\n",
       "}\n",
       "</style>\n",
       "<small>shape: (1, 25)</small><table border=\"1\" class=\"dataframe\"><thead><tr><th>hours</th><th>products</th><th>product_id</th><th>page_order</th><th>date</th><th>text</th><th>early_access</th><th>page</th><th>found_funny</th><th>compensation</th><th>user_id</th><th>publisher</th><th>genres</th><th>title</th><th>url</th><th>release_date</th><th>tags</th><th>discount_price</th><th>reviews_url</th><th>specs</th><th>price</th><th>developer</th><th>sentiment</th><th>metascore</th><th>review_date</th></tr><tr><td>f64</td><td>i64</td><td>i32</td><td>i64</td><td>str</td><td>str</td><td>bool</td><td>i64</td><td>i64</td><td>str</td><td>i64</td><td>str</td><td>list[str]</td><td>str</td><td>str</td><td>date</td><td>list[str]</td><td>f64</td><td>str</td><td>list[str]</td><td>str</td><td>str</td><td>str</td><td>str</td><td>date</td></tr></thead><tbody><tr><td>16.6</td><td>577</td><td>35140</td><td>1</td><td>&quot;2018-01-04&quot;</td><td>&quot;Still worth playing in 2018.\n",
       "P…</td><td>false</td><td>1</td><td>null</td><td>null</td><td>76561198007483075</td><td>&quot;Warner Bros. Interactive Enter…</td><td>[&quot;Action&quot;, &quot;Adventure&quot;]</td><td>&quot;Batman: Arkham Asylum Game of …</td><td>&quot;http://store.steampowered.com/…</td><td>2010-03-26</td><td>[&quot;Action&quot;, &quot;Batman&quot;, … &quot;Horror&quot;]</td><td>null</td><td>&quot;http://steamcommunity.com/app/…</td><td>[&quot;Single-player&quot;, &quot;Steam Achievements&quot;, … &quot;Steam Cloud&quot;]</td><td>&quot;19.99&quot;</td><td>&quot;Rocksteady Studios,Feral Inter…</td><td>&quot;Overwhelmingly Positive&quot;</td><td>&quot;91&quot;</td><td>2018-01-04</td></tr></tbody></table></div>"
      ],
      "text/plain": [
       "shape: (1, 25)\n",
       "┌───────┬──────────┬────────────┬────────────┬───┬────────────┬────────────┬───────────┬───────────┐\n",
       "│ hours ┆ products ┆ product_id ┆ page_order ┆ … ┆ developer  ┆ sentiment  ┆ metascore ┆ review_da │\n",
       "│ ---   ┆ ---      ┆ ---        ┆ ---        ┆   ┆ ---        ┆ ---        ┆ ---       ┆ te        │\n",
       "│ f64   ┆ i64      ┆ i32        ┆ i64        ┆   ┆ str        ┆ str        ┆ str       ┆ ---       │\n",
       "│       ┆          ┆            ┆            ┆   ┆            ┆            ┆           ┆ date      │\n",
       "╞═══════╪══════════╪════════════╪════════════╪═══╪════════════╪════════════╪═══════════╪═══════════╡\n",
       "│ 16.6  ┆ 577      ┆ 35140      ┆ 1          ┆ … ┆ Rocksteady ┆ Overwhelmi ┆ 91        ┆ 2018-01-0 │\n",
       "│       ┆          ┆            ┆            ┆   ┆ Studios,Fe ┆ ngly       ┆           ┆ 4         │\n",
       "│       ┆          ┆            ┆            ┆   ┆ ral Inter… ┆ Positive   ┆           ┆           │\n",
       "└───────┴──────────┴────────────┴────────────┴───┴────────────┴────────────┴───────────┴───────────┘"
      ]
     },
     "execution_count": 107,
     "metadata": {},
     "output_type": "execute_result"
    }
   ],
   "source": [
    "df_filtered[0]"
   ]
  },
  {
   "cell_type": "code",
   "execution_count": 109,
   "id": "4c61247e-0cf9-4ceb-84ac-0f98b9257701",
   "metadata": {},
   "outputs": [
    {
     "name": "stdout",
     "output_type": "stream",
     "text": [
      "2425381\n"
     ]
    }
   ],
   "source": [
    "# Drop items and reviews with dates before June 2012, 1 month before first player count reading\n",
    "from datetime import datetime\n",
    "cutoff_date = datetime(2012, 6, 1) \n",
    "df_filtered_date = df_filtered.filter(pl.col(\"review_date\") >= cutoff_date) \n",
    "df_filtered_date = df_filtered_date.filter(pl.col(\"release_date\") >= cutoff_date)\n",
    "print(len(df_filtered_date))"
   ]
  },
  {
   "cell_type": "code",
   "execution_count": 110,
   "id": "91d41c94-6e86-4387-a2ec-cc6ea34ed633",
   "metadata": {},
   "outputs": [
    {
     "name": "stdout",
     "output_type": "stream",
     "text": [
      "2425381\n",
      "11475\n"
     ]
    }
   ],
   "source": [
    "# polars: print unique product_id \n",
    "review_columns = [\"user_id\", \"product_id\", \"review_date\", \"hours\", \"text\", \"products\", \"page\", \"page_order\", \"found_funny\", \"reviews_url\"]\n",
    "product_columns = [\"product_id\", \"sentiment\", \"developer\", \"publisher\", \"release_date\", \"tags\", \"genres\", \"specs\", \"price\"]\n",
    "\n",
    "reviews = df_filtered_date.select(review_columns)\n",
    "products = df_filtered_date.unique(\"product_id\").select(product_columns)\n",
    "print(len(reviews)) \n",
    "print(len(products))\n"
   ]
  },
  {
   "cell_type": "code",
   "execution_count": 111,
   "id": "eed81473-dfd1-4a1f-8006-8106d6fa36e9",
   "metadata": {},
   "outputs": [],
   "source": [
    "reviews.write_parquet(\"./data/reviews.parquet\", compression=\"zstd\", compression_level=11)"
   ]
  },
  {
   "cell_type": "code",
   "execution_count": 112,
   "id": "bb7c023e-14a7-4add-a4a8-a96088d67541",
   "metadata": {},
   "outputs": [],
   "source": [
    "products.write_parquet(\"./data/products_X.parquet\", compression=\"zstd\", compression_level=11)"
   ]
  },
  {
   "cell_type": "markdown",
   "id": "614a60a6-7bc2-4e98-9a0d-f8cc4d4be32e",
   "metadata": {},
   "source": [
    "#### Get Labels "
   ]
  },
  {
   "cell_type": "code",
   "execution_count": 5,
   "id": "c456dd5b-d7ba-4883-b1be-4690d3c4464e",
   "metadata": {},
   "outputs": [
    {
     "data": {
      "text/html": [
       "<div><style>\n",
       ".dataframe > thead > tr,\n",
       ".dataframe > tbody > tr {\n",
       "  text-align: right;\n",
       "  white-space: pre-wrap;\n",
       "}\n",
       "</style>\n",
       "<small>shape: (2_425_381, 10)</small><table border=\"1\" class=\"dataframe\"><thead><tr><th>user_id</th><th>product_id</th><th>review_date</th><th>hours</th><th>text</th><th>products</th><th>page</th><th>page_order</th><th>found_funny</th><th>reviews_url</th></tr><tr><td>i64</td><td>i32</td><td>date</td><td>f64</td><td>str</td><td>i64</td><td>i64</td><td>i64</td><td>i64</td><td>str</td></tr></thead><tbody><tr><td>76561197970402776</td><td>707610</td><td>2017-10-16</td><td>1.1</td><td>&quot;no sound. icons don&#x27;t work. re…</td><td>729</td><td>1</td><td>0</td><td>null</td><td>&quot;http://steamcommunity.com/app/…</td></tr><tr><td>76561198060686749</td><td>328100</td><td>2017-06-23</td><td>3.8</td><td>&quot;A nice game, but better not to…</td><td>431</td><td>1</td><td>3</td><td>2</td><td>&quot;http://steamcommunity.com/app/…</td></tr><tr><td>76561198159791799</td><td>725280</td><td>2017-11-13</td><td>0.3</td><td>&quot;THE WORST GAME I HAVE EVER PLA…</td><td>48</td><td>1</td><td>4</td><td>2</td><td>&quot;http://steamcommunity.com/app/…</td></tr><tr><td>76561198048988003</td><td>350280</td><td>2018-01-04</td><td>1.3</td><td>&quot;BADASS&quot;</td><td>93</td><td>1</td><td>0</td><td>null</td><td>&quot;http://steamcommunity.com/app/…</td></tr><tr><td>76561198011965365</td><td>328100</td><td>2017-03-31</td><td>1.3</td><td>&quot;They do a fantastic job of mat…</td><td>1689</td><td>1</td><td>7</td><td>null</td><td>&quot;http://steamcommunity.com/app/…</td></tr><tr><td>&hellip;</td><td>&hellip;</td><td>&hellip;</td><td>&hellip;</td><td>&hellip;</td><td>&hellip;</td><td>&hellip;</td><td>&hellip;</td><td>&hellip;</td><td>&hellip;</td></tr><tr><td>76561197962161824</td><td>252490</td><td>2013-12-11</td><td>2775.2</td><td>&quot;One of the best survival/FPS s…</td><td>44</td><td>10220</td><td>9</td><td>null</td><td>&quot;http://steamcommunity.com/app/…</td></tr><tr><td>76561198010660367</td><td>252490</td><td>2013-12-11</td><td>82.2</td><td>&quot;O yes good waiting long time&quot;</td><td>91</td><td>10221</td><td>2</td><td>null</td><td>&quot;http://steamcommunity.com/app/…</td></tr><tr><td>76561197983773018</td><td>252490</td><td>2013-12-11</td><td>261.7</td><td>&quot;its so meganice this game Big …</td><td>298</td><td>10221</td><td>3</td><td>null</td><td>&quot;http://steamcommunity.com/app/…</td></tr><tr><td>76561198089897928</td><td>252490</td><td>2013-12-11</td><td>1215.2</td><td>&quot;really fun and addictive game …</td><td>73</td><td>10221</td><td>6</td><td>null</td><td>&quot;http://steamcommunity.com/app/…</td></tr><tr><td>76561198048207033</td><td>252490</td><td>2013-12-11</td><td>50.5</td><td>&quot;gr8 game 10/10 wud buy agen&quot;</td><td>288</td><td>10221</td><td>7</td><td>null</td><td>&quot;http://steamcommunity.com/app/…</td></tr></tbody></table></div>"
      ],
      "text/plain": [
       "shape: (2_425_381, 10)\n",
       "┌────────────┬────────────┬────────────┬────────┬───┬───────┬────────────┬────────────┬────────────┐\n",
       "│ user_id    ┆ product_id ┆ review_dat ┆ hours  ┆ … ┆ page  ┆ page_order ┆ found_funn ┆ reviews_ur │\n",
       "│ ---        ┆ ---        ┆ e          ┆ ---    ┆   ┆ ---   ┆ ---        ┆ y          ┆ l          │\n",
       "│ i64        ┆ i32        ┆ ---        ┆ f64    ┆   ┆ i64   ┆ i64        ┆ ---        ┆ ---        │\n",
       "│            ┆            ┆ date       ┆        ┆   ┆       ┆            ┆ i64        ┆ str        │\n",
       "╞════════════╪════════════╪════════════╪════════╪═══╪═══════╪════════════╪════════════╪════════════╡\n",
       "│ 7656119797 ┆ 707610     ┆ 2017-10-16 ┆ 1.1    ┆ … ┆ 1     ┆ 0          ┆ null       ┆ http://ste │\n",
       "│ 0402776    ┆            ┆            ┆        ┆   ┆       ┆            ┆            ┆ amcommunit │\n",
       "│            ┆            ┆            ┆        ┆   ┆       ┆            ┆            ┆ y.com/app/ │\n",
       "│            ┆            ┆            ┆        ┆   ┆       ┆            ┆            ┆ …          │\n",
       "│ 7656119806 ┆ 328100     ┆ 2017-06-23 ┆ 3.8    ┆ … ┆ 1     ┆ 3          ┆ 2          ┆ http://ste │\n",
       "│ 0686749    ┆            ┆            ┆        ┆   ┆       ┆            ┆            ┆ amcommunit │\n",
       "│            ┆            ┆            ┆        ┆   ┆       ┆            ┆            ┆ y.com/app/ │\n",
       "│            ┆            ┆            ┆        ┆   ┆       ┆            ┆            ┆ …          │\n",
       "│ 7656119815 ┆ 725280     ┆ 2017-11-13 ┆ 0.3    ┆ … ┆ 1     ┆ 4          ┆ 2          ┆ http://ste │\n",
       "│ 9791799    ┆            ┆            ┆        ┆   ┆       ┆            ┆            ┆ amcommunit │\n",
       "│            ┆            ┆            ┆        ┆   ┆       ┆            ┆            ┆ y.com/app/ │\n",
       "│            ┆            ┆            ┆        ┆   ┆       ┆            ┆            ┆ …          │\n",
       "│ 7656119804 ┆ 350280     ┆ 2018-01-04 ┆ 1.3    ┆ … ┆ 1     ┆ 0          ┆ null       ┆ http://ste │\n",
       "│ 8988003    ┆            ┆            ┆        ┆   ┆       ┆            ┆            ┆ amcommunit │\n",
       "│            ┆            ┆            ┆        ┆   ┆       ┆            ┆            ┆ y.com/app/ │\n",
       "│            ┆            ┆            ┆        ┆   ┆       ┆            ┆            ┆ …          │\n",
       "│ 7656119801 ┆ 328100     ┆ 2017-03-31 ┆ 1.3    ┆ … ┆ 1     ┆ 7          ┆ null       ┆ http://ste │\n",
       "│ 1965365    ┆            ┆            ┆        ┆   ┆       ┆            ┆            ┆ amcommunit │\n",
       "│            ┆            ┆            ┆        ┆   ┆       ┆            ┆            ┆ y.com/app/ │\n",
       "│            ┆            ┆            ┆        ┆   ┆       ┆            ┆            ┆ …          │\n",
       "│ …          ┆ …          ┆ …          ┆ …      ┆ … ┆ …     ┆ …          ┆ …          ┆ …          │\n",
       "│ 7656119796 ┆ 252490     ┆ 2013-12-11 ┆ 2775.2 ┆ … ┆ 10220 ┆ 9          ┆ null       ┆ http://ste │\n",
       "│ 2161824    ┆            ┆            ┆        ┆   ┆       ┆            ┆            ┆ amcommunit │\n",
       "│            ┆            ┆            ┆        ┆   ┆       ┆            ┆            ┆ y.com/app/ │\n",
       "│            ┆            ┆            ┆        ┆   ┆       ┆            ┆            ┆ …          │\n",
       "│ 7656119801 ┆ 252490     ┆ 2013-12-11 ┆ 82.2   ┆ … ┆ 10221 ┆ 2          ┆ null       ┆ http://ste │\n",
       "│ 0660367    ┆            ┆            ┆        ┆   ┆       ┆            ┆            ┆ amcommunit │\n",
       "│            ┆            ┆            ┆        ┆   ┆       ┆            ┆            ┆ y.com/app/ │\n",
       "│            ┆            ┆            ┆        ┆   ┆       ┆            ┆            ┆ …          │\n",
       "│ 7656119798 ┆ 252490     ┆ 2013-12-11 ┆ 261.7  ┆ … ┆ 10221 ┆ 3          ┆ null       ┆ http://ste │\n",
       "│ 3773018    ┆            ┆            ┆        ┆   ┆       ┆            ┆            ┆ amcommunit │\n",
       "│            ┆            ┆            ┆        ┆   ┆       ┆            ┆            ┆ y.com/app/ │\n",
       "│            ┆            ┆            ┆        ┆   ┆       ┆            ┆            ┆ …          │\n",
       "│ 7656119808 ┆ 252490     ┆ 2013-12-11 ┆ 1215.2 ┆ … ┆ 10221 ┆ 6          ┆ null       ┆ http://ste │\n",
       "│ 9897928    ┆            ┆            ┆        ┆   ┆       ┆            ┆            ┆ amcommunit │\n",
       "│            ┆            ┆            ┆        ┆   ┆       ┆            ┆            ┆ y.com/app/ │\n",
       "│            ┆            ┆            ┆        ┆   ┆       ┆            ┆            ┆ …          │\n",
       "│ 7656119804 ┆ 252490     ┆ 2013-12-11 ┆ 50.5   ┆ … ┆ 10221 ┆ 7          ┆ null       ┆ http://ste │\n",
       "│ 8207033    ┆            ┆            ┆        ┆   ┆       ┆            ┆            ┆ amcommunit │\n",
       "│            ┆            ┆            ┆        ┆   ┆       ┆            ┆            ┆ y.com/app/ │\n",
       "│            ┆            ┆            ┆        ┆   ┆       ┆            ┆            ┆ …          │\n",
       "└────────────┴────────────┴────────────┴────────┴───┴───────┴────────────┴────────────┴────────────┘"
      ]
     },
     "execution_count": 5,
     "metadata": {},
     "output_type": "execute_result"
    }
   ],
   "source": [
    "reviews = pl.read_parquet(\"./data/reviews.parquet\")\n",
    "reviews"
   ]
  },
  {
   "cell_type": "code",
   "execution_count": 8,
   "id": "f2be33b8-6602-427b-bd60-417bb13399a5",
   "metadata": {},
   "outputs": [
    {
     "name": "stdout",
     "output_type": "stream",
     "text": [
      "shape: (1_226_556,)\n",
      "Series: 'user_id' [i64]\n",
      "[\n",
      "\t76561197960266010\n",
      "\t76561197960266146\n",
      "\t76561197960266225\n",
      "\t76561197960266375\n",
      "\t76561197960266546\n",
      "\t…\n",
      "\t76561198802823358\n",
      "\t76561198802833648\n",
      "\t76561198802851005\n",
      "\t76561198802892043\n",
      "\t76561198802945266\n",
      "]\n"
     ]
    }
   ],
   "source": [
    "# print users with less than 5 occurences, print items with less than 5 ocurrences\n",
    "print(reviews[\"user_id\"].unique())"
   ]
  },
  {
   "cell_type": "code",
   "execution_count": 14,
   "id": "4219d3de-2f32-4c28-9baa-c33ae6e69de0",
   "metadata": {},
   "outputs": [
    {
     "data": {
      "text/html": [
       "<div><style>\n",
       ".dataframe > thead > tr,\n",
       ".dataframe > tbody > tr {\n",
       "  text-align: right;\n",
       "  white-space: pre-wrap;\n",
       "}\n",
       "</style>\n",
       "<small>shape: (56_292, 2)</small><table border=\"1\" class=\"dataframe\"><thead><tr><th>user_id</th><th>count</th></tr><tr><td>i64</td><td>u32</td></tr></thead><tbody><tr><td>76561198032635963</td><td>7</td></tr><tr><td>76561198157113920</td><td>7</td></tr><tr><td>76561198002457428</td><td>8</td></tr><tr><td>76561198131636827</td><td>13</td></tr><tr><td>76561198094675316</td><td>26</td></tr><tr><td>&hellip;</td><td>&hellip;</td></tr><tr><td>76561197980019537</td><td>6</td></tr><tr><td>76561198104554518</td><td>6</td></tr><tr><td>76561198150782214</td><td>8</td></tr><tr><td>76561198173122679</td><td>8</td></tr><tr><td>76561198149772238</td><td>6</td></tr></tbody></table></div>"
      ],
      "text/plain": [
       "shape: (56_292, 2)\n",
       "┌───────────────────┬───────┐\n",
       "│ user_id           ┆ count │\n",
       "│ ---               ┆ ---   │\n",
       "│ i64               ┆ u32   │\n",
       "╞═══════════════════╪═══════╡\n",
       "│ 76561198032635963 ┆ 7     │\n",
       "│ 76561198157113920 ┆ 7     │\n",
       "│ 76561198002457428 ┆ 8     │\n",
       "│ 76561198131636827 ┆ 13    │\n",
       "│ 76561198094675316 ┆ 26    │\n",
       "│ …                 ┆ …     │\n",
       "│ 76561197980019537 ┆ 6     │\n",
       "│ 76561198104554518 ┆ 6     │\n",
       "│ 76561198150782214 ┆ 8     │\n",
       "│ 76561198173122679 ┆ 8     │\n",
       "│ 76561198149772238 ┆ 6     │\n",
       "└───────────────────┴───────┘"
      ]
     },
     "execution_count": 14,
     "metadata": {},
     "output_type": "execute_result"
    }
   ],
   "source": [
    "reviews.group_by(\"user_id\").agg(pl.count(\"user_id\").alias(\"count\")).filter(pl.col(\"count\") > 5)"
   ]
  },
  {
   "cell_type": "code",
   "execution_count": null,
   "id": "9d19a504-58cd-4551-97ad-05b371023c3c",
   "metadata": {},
   "outputs": [],
   "source": []
  }
 ],
 "metadata": {
  "kernelspec": {
   "display_name": "Python 3 (ipykernel)",
   "language": "python",
   "name": "python3"
  },
  "language_info": {
   "codemirror_mode": {
    "name": "ipython",
    "version": 3
   },
   "file_extension": ".py",
   "mimetype": "text/x-python",
   "name": "python",
   "nbconvert_exporter": "python",
   "pygments_lexer": "ipython3",
   "version": "3.12.6"
  }
 },
 "nbformat": 4,
 "nbformat_minor": 5
}
