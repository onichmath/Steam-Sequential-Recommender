{
 "cells": [
  {
   "cell_type": "code",
   "execution_count": 50,
   "id": "8d63a9cc-5c1b-4847-b549-48125c57b789",
   "metadata": {},
   "outputs": [],
   "source": [
    "import polars as pl \n",
    "import numpy as np\n",
    "import torch\n",
    "import implicit # For BPR"
   ]
  },
  {
   "cell_type": "code",
   "execution_count": 65,
   "id": "16ac105b-4d1f-47cd-8e00-bf7aa2ffde5b",
   "metadata": {},
   "outputs": [],
   "source": [
    "train_len = 868_798\n",
    "val_len = 113_979\n",
    "test_len = 113_979\n",
    "total_len = train_len + val_len + test_len"
   ]
  },
  {
   "cell_type": "markdown",
   "id": "ec8d0e66-85cb-42d8-86d4-4a88e2ddbdbf",
   "metadata": {},
   "source": [
    "## Data Loading"
   ]
  },
  {
   "cell_type": "code",
   "execution_count": 103,
   "id": "a051eb4c-ec56-4e9e-8838-15dcdf839e46",
   "metadata": {},
   "outputs": [],
   "source": [
    "def get_train_valid_eval(): \n",
    "    \"\"\"\n",
    "    Returns datasets sorted by user_id with idx of their initial position in the dataset\n",
    "    - X_train: All interactions except the last two per user\n",
    "    - y_valid: Second to last interaction per user\n",
    "    - y_test: Last interaction per user\n",
    "    \"\"\"\n",
    "    exclude_cols = [\"hours\", \"products\", \"found_funny\", \"hours\", \"text\"]\n",
    "    full = pl.scan_parquet(\"data/sorted_reviews.parquet\").drop(exclude_cols).with_row_index(\"idx\")\n",
    "    y = full.group_by(\"mapped_user_id\").tail(2)\n",
    "    X_train = full.join(y, on=\"idx\", how=\"anti\") # Up to two interactions from last per user\n",
    "\n",
    "    y_valid = y.group_by(\"mapped_user_id\").head(1) # 1 interaction from last per user\n",
    "    y_test = y.group_by(\"mapped_user_id\").tail(1) # Last interaction per user\n",
    "\n",
    "    assert total_len == len(full.collect())\n",
    "    assert train_len == len(X_train.collect())\n",
    "    assert val_len == len(y_valid.collect())\n",
    "    assert test_len == len(y_test.collect())\n",
    "\n",
    "    return X_train, y_valid, y_test"
   ]
  },
  {
   "cell_type": "code",
   "execution_count": 104,
   "id": "adf059a5-71e5-4e4a-a9ff-6ceb751e5a52",
   "metadata": {},
   "outputs": [],
   "source": [
    "def format_train_eval_data(df): \n",
    "    \"\"\"\n",
    "    Formats the data to have the columns: idx, user_id, product_id\n",
    "    \"\"\"\n",
    "    exclude_cols = [\"review_date\", \"mapped_user_id\", \"mapped_product_id\"]\n",
    "    return (\n",
    "        df\n",
    "        .with_columns(\n",
    "            pl.col(\"mapped_user_id\").alias(\"user_id\"),\n",
    "            pl.col(\"mapped_product_id\").alias(\"product_id\"),\n",
    "        )\n",
    "        .drop(exclude_cols)\n",
    "        .select([\"idx\", \"user_id\", \"product_id\"])\n",
    "    )"
   ]
  },
  {
   "cell_type": "code",
   "execution_count": 71,
   "id": "4c1d7905-7f0f-4cb2-9b33-b7a6d7157648",
   "metadata": {},
   "outputs": [],
   "source": [
    "def get_clean_train_valid_eval(): \n",
    "    \"\"\" \n",
    "    Returns the datasets formatted for training and evaluation\n",
    "    - X_train: All interactions except the last two per user\n",
    "    - y_valid: Second to last interaction per user\n",
    "    - y_test: Last interaction per user\n",
    "    \"\"\"\n",
    "    X_train, y_valid, y_test = get_train_valid_eval()\n",
    "    X_train = format_train_eval_data(X_train)\n",
    "    y_valid = format_train_eval_data(y_valid)\n",
    "    y_test = format_train_eval_data(y_test)\n",
    "    assert total_len == len(X_train.collect()) + len(y_valid.collect()) + len(y_test.collect())\n",
    "    return X_train, y_valid, y_test"
   ]
  },
  {
   "cell_type": "code",
   "execution_count": 106,
   "id": "d400bf1b-abcd-49d5-8bbf-cd93d6c38dcd",
   "metadata": {},
   "outputs": [],
   "source": [
    "def join_train_valid(X_train, y_valid):\n",
    "    \"\"\"\n",
    "    Joins the training and validation datasets on each user \n",
    "    - X_test: All interactions except the last one per user\n",
    "    \"\"\"\n",
    "    X_test = pl.concat([X_train, y_valid], how=\"vertical\").sort(\"idx\")\n",
    "    assert train_len + val_len == len(X_test.collect())\n",
    "    return X_test"
   ]
  },
  {
   "cell_type": "markdown",
   "id": "d02f92d4-43ae-4127-a268-5775802331a7",
   "metadata": {},
   "source": [
    "## Experiments"
   ]
  },
  {
   "cell_type": "markdown",
   "id": "9503f8fe-fe31-4933-ab44-9c87352e92cd",
   "metadata": {},
   "source": [
    "### Experiment 1: Popularity Baseline"
   ]
  },
  {
   "cell_type": "code",
   "execution_count": 130,
   "id": "1abd51d6-03b9-4a25-9691-7e4f0a645e19",
   "metadata": {},
   "outputs": [],
   "source": [
    "def get_k_most_popular_items(X, k=50): \n",
    "    \"\"\"\n",
    "    Returns the k most popular items in X\n",
    "    \"\"\"\n",
    "    popular_items = (\n",
    "        X\n",
    "        .group_by(\"product_id\")\n",
    "        .agg(pl.count(\"product_id\").alias(\"count\"))\n",
    "        .sort(\"count\", descending=True)\n",
    "        .head(k)\n",
    "    )\n",
    "    return popular_items"
   ]
  },
  {
   "cell_type": "code",
   "execution_count": 136,
   "id": "1d57e3a6-a358-403a-851d-9072b421e379",
   "metadata": {},
   "outputs": [],
   "source": [
    "def predict_based_on_item_popularity(X_train, y_valid, y_test, k=50): \n",
    "    \"\"\"\n",
    "    Predicts the most popular items for each user\n",
    "    \"\"\"\n",
    "    top_k_items = get_k_most_popular_items(\n",
    "        join_train_valid(X_train, y_valid),\n",
    "        k)\n",
    "    return y_test.join(top_k_items, on=\"product_id\")"
   ]
  },
  {
   "cell_type": "code",
   "execution_count": 170,
   "id": "5b5f4d0a-ed25-4495-8907-ba741e3ac4e7",
   "metadata": {},
   "outputs": [],
   "source": [
    "def popularity_baseline(k_vals = [3, 5, 10, 25, 50]):\n",
    "    X_train, y_valid, y_test = get_clean_train_valid_eval()\n",
    "    \n",
    "    hits_at_k = []\n",
    "    precision_at_k = []\n",
    "\n",
    "    for k in k_vals:\n",
    "        y_pred = predict_based_on_item_popularity(X_train, y_valid, y_test, k = k)\n",
    "        hits = len(y_pred.join(y_test, on=[\"user_id\", \"product_id\"]).collect())\n",
    "\n",
    "        num_predictions = len(y_pred.collect())\n",
    "        number_of_users = len(y_test.collect()) \n",
    "\n",
    "        hits_at_k.append(hits / number_of_users)\n",
    "\n",
    "        # Number of hits divided by number of predictions\n",
    "        precision_at_k.append(hits / k / number_of_users)\n",
    "\n",
    "    results = pl.DataFrame(\n",
    "        {\n",
    "            \"k\": k_vals,\n",
    "            \"hits_at_k\": hits_at_k,\n",
    "            \"precision_at_k\": precision_at_k\n",
    "        }\n",
    "    )\n",
    "\n",
    "    return results"
   ]
  },
  {
   "cell_type": "code",
   "execution_count": 171,
   "id": "c73ed84b-5a1b-4551-961c-254725879390",
   "metadata": {},
   "outputs": [
    {
     "name": "stdout",
     "output_type": "stream",
     "text": [
      "shape: (5, 3)\n",
      "┌─────┬───────────┬────────────────┐\n",
      "│ k   ┆ hits_at_k ┆ precision_at_k │\n",
      "│ --- ┆ ---       ┆ ---            │\n",
      "│ i64 ┆ f64       ┆ f64            │\n",
      "╞═════╪═══════════╪════════════════╡\n",
      "│ 3   ┆ 0.027584  ┆ 0.009195       │\n",
      "│ 5   ┆ 0.035945  ┆ 0.007189       │\n",
      "│ 10  ┆ 0.056581  ┆ 0.005658       │\n",
      "│ 25  ┆ 0.111652  ┆ 0.004466       │\n",
      "│ 50  ┆ 0.166776  ┆ 0.003336       │\n",
      "└─────┴───────────┴────────────────┘\n"
     ]
    }
   ],
   "source": [
    "print(popularity_baseline())"
   ]
  },
  {
   "cell_type": "markdown",
   "id": "4c5a179c-d343-45b6-82ac-1bfb4b5d2e61",
   "metadata": {},
   "source": [
    "### Experiment 2: Item2Vec\n"
   ]
  },
  {
   "cell_type": "markdown",
   "id": "89146ddb-b548-4ea1-90b5-2b2f12800ae2",
   "metadata": {},
   "source": [
    "### Experiment 3: Bayesian Personalized Ranking"
   ]
  }
 ],
 "metadata": {
  "kernelspec": {
   "display_name": "Python 3 (ipykernel)",
   "language": "python",
   "name": "python3"
  },
  "language_info": {
   "codemirror_mode": {
    "name": "ipython",
    "version": 3
   },
   "file_extension": ".py",
   "mimetype": "text/x-python",
   "name": "python",
   "nbconvert_exporter": "python",
   "pygments_lexer": "ipython3",
   "version": "3.12.6"
  }
 },
 "nbformat": 4,
 "nbformat_minor": 5
}
